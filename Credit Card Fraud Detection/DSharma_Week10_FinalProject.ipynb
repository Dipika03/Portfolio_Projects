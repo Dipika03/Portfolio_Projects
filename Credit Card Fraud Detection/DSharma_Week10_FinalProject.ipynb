{
 "cells": [
  {
   "cell_type": "code",
   "execution_count": null,
   "id": "2b6a3981-e446-49dd-b25b-6bfc979a5831",
   "metadata": {},
   "outputs": [],
   "source": [
    "\n"
   ]
  },
  {
   "cell_type": "markdown",
   "id": "40fbe1b0-3476-486b-a1d6-3cad2ce37bb8",
   "metadata": {},
   "source": [
    "#### Name Dipika Sharma\n",
    "#### DSC 550 T302 Data Mining\n",
    "#### Week 10"
   ]
  },
  {
   "cell_type": "markdown",
   "id": "de1f4321-da34-4bbc-9551-fa66bffd75af",
   "metadata": {},
   "source": [
    "## Introduction"
   ]
  },
  {
   "cell_type": "markdown",
   "id": "17a28e34-fd63-4505-ab37-013e3300f6a4",
   "metadata": {},
   "source": [
    "### 1. Introduce the problem"
   ]
  },
  {
   "cell_type": "markdown",
   "id": "1fe15c3f-029d-412e-8aa0-e622b4d69280",
   "metadata": {},
   "source": [
    "#### The world we are living in, is undeniably digital. Since covid 19 there is a tremendous increase in the number of users who prefer online shopping as it is convenient and easy. Most of the people use credit cards for online purchase. Credit Card offers lot of the benefits to users and one of the advantages of credit card is - it allow users to buy something even if they do not have money at that time. This feature has also increased the financial fraud. Although cybersecurity is there and plays an important role in providing digital security, but it is not easy to track down the unusual activity.\n",
    "\n"
   ]
  },
  {
   "cell_type": "markdown",
   "id": "b61438ed-66fc-4255-9b71-4b3e162dcb66",
   "metadata": {},
   "source": [
    "### 2. Justify why it is important/useful to solve this problem"
   ]
  },
  {
   "cell_type": "markdown",
   "id": "bf4e8e90-acd9-4a43-a0ec-30bae2c76865",
   "metadata": {},
   "source": [
    "### 3. How would you pitch this problem to a group of stakeholders to gain buy-in to proceed?"
   ]
  },
  {
   "cell_type": "markdown",
   "id": "90e04c7e-6090-48fd-9b5c-c4b82f3da744",
   "metadata": {},
   "source": [
    "### 4. Explain where you obtained your data"
   ]
  },
  {
   "cell_type": "markdown",
   "id": "74fd65ce-eefc-487e-9044-ff599cf81b66",
   "metadata": {},
   "source": [
    "#### I found the credit card dataset at below location in Kaggle website:  <br><br> https://www.kaggle.com/datasets/jacklizhi/creditcard  <br><br>This data set contained 284807 rows and 31 columns. I understand for security purpose the dataset has column names v1, v2, … v28. We have 28 features with these name. The remaining three features Time, Amount and Class using the original names. Class is the target columns when class labels is 0 then it is non-fraudulent transaction and when it is 1 then it is fraudulent transaction."
   ]
  },
  {
   "cell_type": "markdown",
   "id": "dac6fdaa-4872-455b-95e3-f9ce2db6e3f0",
   "metadata": {},
   "source": [
    "## Organized and detailed summary of Milestones 1-3"
   ]
  },
  {
   "cell_type": "markdown",
   "id": "85047c06-8261-4437-902b-a81dea4df4d5",
   "metadata": {},
   "source": [
    "### 1. EDA; include any visuals you think are important to your project"
   ]
  },
  {
   "cell_type": "markdown",
   "id": "67ac2945-aa8f-473d-b526-5d702990a2f8",
   "metadata": {},
   "source": [
    "#### While working on the credit card data set I have following observation: <br> &emsp;&emsp; a) Using the heatmap I found the features V1, V2, ... and V28 are weakly correlated to each other and they do not have much dependency on others. But we do find that Class and Amount variable are positively and negatively correlated to some of the features like V2, V3, V5, V7, V14, V17 and V12. <br> &emsp;&emsp; b) I used bar graph analysis to find out the number of fraud trasaction against the total number of transactions. We saw that the fraud transaction are very less compare to valid non fraud transactions. This also raise a question if the dataset is best fit or not as the training set is seems to be very small. <br> &emsp;&emsp; c) Next I used the boxplot to find out the outliers in the data set for amount varaible. Outliers can mislead the results for predictive model. Since we have less fraud transaction data I prefer to remove outliers that are extreme and have transaction amount exceeds from 10000. It is not changing the dataset much but will definitly increase the accuracy of the result of our model. <br> &emsp;&emsp; d) I used the denity plot to see pattern in fraud and valid non fraud transactions. I observed that fraud transactions are quite consistent compare to non fraud transactions. <br> &emsp;&emsp; e) Next i used histogram to find out if there is any unbalanced in amount data when comes to fraud transaction and non raud transaction. Histogram help me to understand that the transaction amount during fraudulent transaction is very less compare to the amount transfered in non fraudulent transactions. I also noticed that zero amount transaction happened for both fraud and non fraud transactions. although the number of transaction with no amount is very less but it indicate the presence of some data errors in the dataset. "
   ]
  },
  {
   "cell_type": "markdown",
   "id": "2c586e6e-acdf-4da0-8c18-40048d37d03a",
   "metadata": {},
   "source": [
    "### 2. Data preparation"
   ]
  },
  {
   "cell_type": "markdown",
   "id": "ed36a4b3-9b94-4cbf-9542-3ba9575a3b0e",
   "metadata": {},
   "source": [
    "#### As part of data preparation we have done the following in the  credit card dataset. <br><br> &emsp;&emsp; a) Drop the irrelevant feature from the dataset. <br> &emsp;&emsp; b) Taking care of NULL or Missing values. <br> &emsp;&emsp; c) Transform the dataset to remove outliers and scale them using statistics that are robust to outliers. <br><br> After preparating the dataset I have split the credit card dataset to train and test set and then build the Logistic regression model and use the confusion matrix to show the Logistic regression model. The credit card fraud detection model has accuracy of 99.92 % and have really low false positive rate. This indicate model is almost accurate and is performing good. <br><br> Also I have added the categorical feature in our dataset using the Class column, as we know in Class feature all 0 values represent Non Fraudulent transactions and 1 represent the Fraudulent transactions.<br><br> Converted the categorical feature to dummy variable. I split the dataset which have now all the dummy varaible to train and test set using Pareto Principle Split. Train the linear regression using the train set and calculate the R2 and RMSE on the test data.<br> The R2 value came out as 100 % which suggest that the linear regression model is fitting the observation. The RMSE value is low as .09 which also state that created model is close to accuracy. <br> <br> In the next milestone, I will be comparing the logistic regression model with other model and will see which model is best fir for credit card fraud detection."
   ]
  },
  {
   "cell_type": "markdown",
   "id": "aca84c6a-65c0-4676-aa07-e39325c187ff",
   "metadata": {},
   "source": [
    "### 3. Model building and evaluation"
   ]
  },
  {
   "cell_type": "markdown",
   "id": "94b81235-dd99-490d-a6d9-82db385214a0",
   "metadata": {},
   "source": [
    "#### 1. The Logistic Regression model 98% accuracy and RandomForest classifier model shows 99.9% accuracy. <br><br> 2. Both model performed really well but the F1 score of Logistic regression model is very less as .12 where as for RandomForest model the F1 score is .86. <br><br> 3. The trained RandomForest model performed much better on the test data set compare to Logostic Regression model. <br><br> 4. RandomForest model shows 96% of the Area Under the ROC curve value with 99.9% accuracy and .86 F1 score meaning the model build above is able to correctly classified Non Fraudulent and Fraudulent Transactions.\n",
    "\n"
   ]
  },
  {
   "cell_type": "markdown",
   "id": "19ea3d87-b38a-4e30-835d-5e76347a24ea",
   "metadata": {},
   "source": [
    "## Conclusion"
   ]
  },
  {
   "cell_type": "markdown",
   "id": "e7030507-27dd-4c4d-80f3-675c875c583b",
   "metadata": {},
   "source": [
    "### 1. What does the analysis/model building tell you?"
   ]
  },
  {
   "cell_type": "markdown",
   "id": "fe0d203e-0f17-4f97-90b1-e217dced0842",
   "metadata": {},
   "source": [
    "### 2. Is this model ready to be deployed?"
   ]
  },
  {
   "cell_type": "markdown",
   "id": "e90e1e28-5f01-40e9-b848-4f967412d62f",
   "metadata": {},
   "source": [
    "### 3. What are your recommendations?"
   ]
  },
  {
   "cell_type": "markdown",
   "id": "9618e370-9e47-42a0-9845-9d197d9eb4e1",
   "metadata": {},
   "source": [
    "### 4. What are some of the potential challenges or additional opportunities that still need to be explored?"
   ]
  },
  {
   "cell_type": "code",
   "execution_count": null,
   "id": "e77e46cc-138d-4fd6-b14d-d1fa778ee9ac",
   "metadata": {},
   "outputs": [],
   "source": []
  }
 ],
 "metadata": {
  "kernelspec": {
   "display_name": "Python 3 (ipykernel)",
   "language": "python",
   "name": "python3"
  },
  "language_info": {
   "codemirror_mode": {
    "name": "ipython",
    "version": 3
   },
   "file_extension": ".py",
   "mimetype": "text/x-python",
   "name": "python",
   "nbconvert_exporter": "python",
   "pygments_lexer": "ipython3",
   "version": "3.9.7"
  }
 },
 "nbformat": 4,
 "nbformat_minor": 5
}

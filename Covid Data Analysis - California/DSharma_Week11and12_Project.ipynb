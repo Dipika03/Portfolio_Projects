{
 "cells": [
  {
   "cell_type": "code",
   "execution_count": 1,
   "id": "6b1aff0d-e383-46b5-aa48-34729888db8a",
   "metadata": {},
   "outputs": [],
   "source": [
    "# Name Dipika Sharma\n",
    "# DSC 540 T302 Data Preparation\n",
    "# Week 11 and 12\n",
    "# Project Milestone 5"
   ]
  },
  {
   "cell_type": "code",
   "execution_count": 31,
   "id": "fd30eb30-09cf-4eab-976a-1c877218567e",
   "metadata": {},
   "outputs": [],
   "source": [
    "# Declaring all the libraries I want to use now.\n",
    "\n",
    "import numpy as np\n",
    "import pandas as pd\n",
    "import matplotlib.pyplot as plt\n",
    "import sqlite3"
   ]
  },
  {
   "cell_type": "code",
   "execution_count": null,
   "id": "e6f71ba8-a1fb-4799-bacb-4c676afdb596",
   "metadata": {},
   "outputs": [],
   "source": [
    "import sqlite3, pandas , matplotlib.pyplot as plt"
   ]
  },
  {
   "cell_type": "markdown",
   "id": "afc3ee1d-06d4-479a-84b1-276b02dc3e85",
   "metadata": {},
   "source": [
    "## Creating sqlite table for storing IRS data for California State"
   ]
  },
  {
   "cell_type": "code",
   "execution_count": 41,
   "id": "0a555301-4bf3-4dbc-8191-fb51df3e590f",
   "metadata": {},
   "outputs": [],
   "source": [
    "# Reading the csv file.\n",
    "\n",
    "IRS_CA_df=pd.read_csv(\"IRS_CA_df.csv\")"
   ]
  },
  {
   "cell_type": "code",
   "execution_count": 166,
   "id": "f4305027-92e0-4818-9eee-7e8b0d72a9a0",
   "metadata": {},
   "outputs": [],
   "source": [
    " # Most of the columns in selected dataset has name which do not make sense, so I am showing the defintion of some of the columns that i want to use in my database.\n",
    " \n",
    " # STATEFIPS - The State Federal Information Processing System (FIPS) code\n",
    " # STATE - The State associated with the ZIP code\n",
    " # ZIPCODE - 5-digit Zip code\n",
    " # AGI_STUB - Size of adjusted gross income\n",
    " # N1 - Number of returns [3]\n",
    " # A00100 - Adjust gross income (AGI) [8]\n",
    " # N02650 - Number of returns with total income\n",
    " # A02650 - Total income amount\n",
    " # N00200 - Number of returns with salaries and wages\n",
    " # A00200 - Salaries and wages amount"
   ]
  },
  {
   "cell_type": "code",
   "execution_count": 42,
   "id": "912bc41d-b679-4851-bdc4-498fdb54dfd9",
   "metadata": {},
   "outputs": [
    {
     "data": {
      "text/html": [
       "<div>\n",
       "<style scoped>\n",
       "    .dataframe tbody tr th:only-of-type {\n",
       "        vertical-align: middle;\n",
       "    }\n",
       "\n",
       "    .dataframe tbody tr th {\n",
       "        vertical-align: top;\n",
       "    }\n",
       "\n",
       "    .dataframe thead th {\n",
       "        text-align: right;\n",
       "    }\n",
       "</style>\n",
       "<table border=\"1\" class=\"dataframe\">\n",
       "  <thead>\n",
       "    <tr style=\"text-align: right;\">\n",
       "      <th></th>\n",
       "      <th>STATEFIPS</th>\n",
       "      <th>STATE</th>\n",
       "      <th>ZIPCODE</th>\n",
       "      <th>AGI_STUB</th>\n",
       "      <th>No_of_Returns</th>\n",
       "      <th>AGI</th>\n",
       "      <th>Returns__Tot_Income</th>\n",
       "      <th>Tot_Income</th>\n",
       "      <th>Returns_Sal_Wages</th>\n",
       "      <th>Sal_Wages_Amt</th>\n",
       "    </tr>\n",
       "  </thead>\n",
       "  <tbody>\n",
       "    <tr>\n",
       "      <th>0</th>\n",
       "      <td>6</td>\n",
       "      <td>CA</td>\n",
       "      <td>90001</td>\n",
       "      <td>3</td>\n",
       "      <td>23030.0</td>\n",
       "      <td>746113.0</td>\n",
       "      <td>23020.0</td>\n",
       "      <td>7.516150e+05</td>\n",
       "      <td>19850.0</td>\n",
       "      <td>670115.0</td>\n",
       "    </tr>\n",
       "    <tr>\n",
       "      <th>1</th>\n",
       "      <td>6</td>\n",
       "      <td>CA</td>\n",
       "      <td>90002</td>\n",
       "      <td>3</td>\n",
       "      <td>21420.0</td>\n",
       "      <td>688469.0</td>\n",
       "      <td>21420.0</td>\n",
       "      <td>6.940560e+05</td>\n",
       "      <td>18610.0</td>\n",
       "      <td>621179.0</td>\n",
       "    </tr>\n",
       "    <tr>\n",
       "      <th>2</th>\n",
       "      <td>6</td>\n",
       "      <td>CA</td>\n",
       "      <td>90003</td>\n",
       "      <td>4</td>\n",
       "      <td>29480.0</td>\n",
       "      <td>890398.0</td>\n",
       "      <td>29480.0</td>\n",
       "      <td>8.981900e+05</td>\n",
       "      <td>25130.0</td>\n",
       "      <td>797011.0</td>\n",
       "    </tr>\n",
       "    <tr>\n",
       "      <th>3</th>\n",
       "      <td>6</td>\n",
       "      <td>CA</td>\n",
       "      <td>90004</td>\n",
       "      <td>6</td>\n",
       "      <td>28160.0</td>\n",
       "      <td>2254004.0</td>\n",
       "      <td>28160.0</td>\n",
       "      <td>2.290432e+06</td>\n",
       "      <td>22970.0</td>\n",
       "      <td>1486573.0</td>\n",
       "    </tr>\n",
       "    <tr>\n",
       "      <th>4</th>\n",
       "      <td>6</td>\n",
       "      <td>CA</td>\n",
       "      <td>90005</td>\n",
       "      <td>4</td>\n",
       "      <td>16870.0</td>\n",
       "      <td>984929.0</td>\n",
       "      <td>16870.0</td>\n",
       "      <td>9.986870e+05</td>\n",
       "      <td>14090.0</td>\n",
       "      <td>711721.0</td>\n",
       "    </tr>\n",
       "  </tbody>\n",
       "</table>\n",
       "</div>"
      ],
      "text/plain": [
       "   STATEFIPS STATE  ZIPCODE  AGI_STUB  No_of_Returns        AGI  \\\n",
       "0          6    CA    90001         3        23030.0   746113.0   \n",
       "1          6    CA    90002         3        21420.0   688469.0   \n",
       "2          6    CA    90003         4        29480.0   890398.0   \n",
       "3          6    CA    90004         6        28160.0  2254004.0   \n",
       "4          6    CA    90005         4        16870.0   984929.0   \n",
       "\n",
       "   Returns__Tot_Income    Tot_Income  Returns_Sal_Wages  Sal_Wages_Amt  \n",
       "0              23020.0  7.516150e+05            19850.0       670115.0  \n",
       "1              21420.0  6.940560e+05            18610.0       621179.0  \n",
       "2              29480.0  8.981900e+05            25130.0       797011.0  \n",
       "3              28160.0  2.290432e+06            22970.0      1486573.0  \n",
       "4              16870.0  9.986870e+05            14090.0       711721.0  "
      ]
     },
     "execution_count": 42,
     "metadata": {},
     "output_type": "execute_result"
    }
   ],
   "source": [
    "# Lets check the top 5 rows of the dataset.\n",
    "IRS_CA_df.head()"
   ]
  },
  {
   "cell_type": "code",
   "execution_count": 43,
   "id": "309cd9a7-5de8-4903-b830-b8a86531e9e1",
   "metadata": {},
   "outputs": [
    {
     "data": {
      "text/plain": [
       "(1477, 10)"
      ]
     },
     "execution_count": 43,
     "metadata": {},
     "output_type": "execute_result"
    }
   ],
   "source": [
    "# Using shape function to see the total number of columns and rows.\n",
    "IRS_CA_df.shape"
   ]
  },
  {
   "cell_type": "code",
   "execution_count": 44,
   "id": "7ad691a2-19cc-46c6-bb66-147da0cfef51",
   "metadata": {},
   "outputs": [],
   "source": [
    "# Create a database connection and cursor to execute queries.\n",
    "conn = sqlite3.connect('Project.db')\n",
    "c = conn.cursor()"
   ]
  },
  {
   "cell_type": "code",
   "execution_count": null,
   "id": "ac464d02-9b21-443c-8a93-b3174da8da38",
   "metadata": {},
   "outputs": [],
   "source": [
    "# creating table to store IRS data for California state\n",
    "c.execute('''CREATE TABLE IRS_CA_df (STATEFIPS int, STATE text, ZIPCODE text, AGI_STUB int, No_of_Returns float, AGI float, Returns__Tot_Income float, Tot_Income float, Returns_Sal_Wages float, Sal_Wages_Amt float)''')\n"
   ]
  },
  {
   "cell_type": "code",
   "execution_count": 47,
   "id": "cef81660-e2eb-4d5d-bfa8-a5989e5e850b",
   "metadata": {},
   "outputs": [],
   "source": [
    "# write the IRS data to a sqlite table \n",
    "IRS_CA_df.to_sql('IRS_CA_df', conn, if_exists='append', index = False)"
   ]
  },
  {
   "cell_type": "code",
   "execution_count": 167,
   "id": "54e5e7a8-fd81-45b6-871b-a1c7903ee9cf",
   "metadata": {},
   "outputs": [],
   "source": [
    "# This section of code is created to test whether data loaded in sqlite table or not.\n",
    "# Run select sql query\n",
    "c.execute('select * from IRS_CA_df')\n",
    " \n",
    "# Fetch all records\n",
    "# as list of tuples\n",
    "records = c.fetchall()\n",
    " \n",
    "# Display result \n",
    "#for row in records:\n",
    "    # show row\n",
    " #   print(row)"
   ]
  },
  {
   "cell_type": "markdown",
   "id": "257f2e00-1f1f-470e-82bd-d8bfbaf519e7",
   "metadata": {},
   "source": [
    "## Creating sqlite table for storing covid vaccination data for California State"
   ]
  },
  {
   "cell_type": "code",
   "execution_count": 5,
   "id": "3638e1c4-2147-4fb6-a7a0-fd5501ecc173",
   "metadata": {},
   "outputs": [],
   "source": [
    "# Reading the CSV data for covid vaccination\n",
    "Covid_df=pd.read_csv(\"Covid_df.csv\")"
   ]
  },
  {
   "cell_type": "code",
   "execution_count": 6,
   "id": "d55b3f28-6ec8-466e-ab1c-164c1ceb3b81",
   "metadata": {},
   "outputs": [
    {
     "data": {
      "text/html": [
       "<div>\n",
       "<style scoped>\n",
       "    .dataframe tbody tr th:only-of-type {\n",
       "        vertical-align: middle;\n",
       "    }\n",
       "\n",
       "    .dataframe tbody tr th {\n",
       "        vertical-align: top;\n",
       "    }\n",
       "\n",
       "    .dataframe thead th {\n",
       "        text-align: right;\n",
       "    }\n",
       "</style>\n",
       "<table border=\"1\" class=\"dataframe\">\n",
       "  <thead>\n",
       "    <tr style=\"text-align: right;\">\n",
       "      <th></th>\n",
       "      <th>id</th>\n",
       "      <th>as_of_date</th>\n",
       "      <th>zip_code_tabulation_area</th>\n",
       "      <th>local_health_jurisdiction</th>\n",
       "      <th>county</th>\n",
       "      <th>vaccine_equity_metric_quartile</th>\n",
       "      <th>vem_source</th>\n",
       "      <th>age12_plus_population</th>\n",
       "      <th>persons_fully_vaccinated</th>\n",
       "      <th>persons_partially_vaccinated</th>\n",
       "      <th>percent_of_population_fully_vaccinated</th>\n",
       "      <th>percent_of_population_partially_vaccinated</th>\n",
       "      <th>percent_of_population_with_1_plus_dose</th>\n",
       "      <th>redacted</th>\n",
       "    </tr>\n",
       "  </thead>\n",
       "  <tbody>\n",
       "    <tr>\n",
       "      <th>0</th>\n",
       "      <td>1</td>\n",
       "      <td>2021-01-05</td>\n",
       "      <td>91902</td>\n",
       "      <td>San Diego</td>\n",
       "      <td>San Diego</td>\n",
       "      <td>4.0</td>\n",
       "      <td>Healthy Places Index Score</td>\n",
       "      <td>16620.7</td>\n",
       "      <td>22.0</td>\n",
       "      <td>372.0</td>\n",
       "      <td>0.001324</td>\n",
       "      <td>0.022382</td>\n",
       "      <td>0.023706</td>\n",
       "      <td>No</td>\n",
       "    </tr>\n",
       "    <tr>\n",
       "      <th>1</th>\n",
       "      <td>2</td>\n",
       "      <td>2021-01-05</td>\n",
       "      <td>92410</td>\n",
       "      <td>San Bernardino</td>\n",
       "      <td>San Bernardino</td>\n",
       "      <td>1.0</td>\n",
       "      <td>Healthy Places Index Score</td>\n",
       "      <td>35012.3</td>\n",
       "      <td>0.0</td>\n",
       "      <td>0.0</td>\n",
       "      <td>0.000000</td>\n",
       "      <td>0.000000</td>\n",
       "      <td>0.000000</td>\n",
       "      <td>Information redacted in accordance with CA sta...</td>\n",
       "    </tr>\n",
       "    <tr>\n",
       "      <th>2</th>\n",
       "      <td>3</td>\n",
       "      <td>2021-01-05</td>\n",
       "      <td>92285</td>\n",
       "      <td>San Bernardino</td>\n",
       "      <td>San Bernardino</td>\n",
       "      <td>1.0</td>\n",
       "      <td>Healthy Places Index Score</td>\n",
       "      <td>2317.1</td>\n",
       "      <td>0.0</td>\n",
       "      <td>0.0</td>\n",
       "      <td>0.000000</td>\n",
       "      <td>0.000000</td>\n",
       "      <td>0.000000</td>\n",
       "      <td>Information redacted in accordance with CA sta...</td>\n",
       "    </tr>\n",
       "    <tr>\n",
       "      <th>3</th>\n",
       "      <td>4</td>\n",
       "      <td>2021-01-05</td>\n",
       "      <td>95621</td>\n",
       "      <td>Sacramento</td>\n",
       "      <td>Sacramento</td>\n",
       "      <td>2.0</td>\n",
       "      <td>Healthy Places Index Score</td>\n",
       "      <td>36059.1</td>\n",
       "      <td>12.0</td>\n",
       "      <td>412.0</td>\n",
       "      <td>0.000333</td>\n",
       "      <td>0.011426</td>\n",
       "      <td>0.011759</td>\n",
       "      <td>No</td>\n",
       "    </tr>\n",
       "    <tr>\n",
       "      <th>4</th>\n",
       "      <td>5</td>\n",
       "      <td>2021-01-05</td>\n",
       "      <td>92656</td>\n",
       "      <td>Orange</td>\n",
       "      <td>Orange</td>\n",
       "      <td>4.0</td>\n",
       "      <td>Healthy Places Index Score</td>\n",
       "      <td>43721.9</td>\n",
       "      <td>0.0</td>\n",
       "      <td>0.0</td>\n",
       "      <td>0.000000</td>\n",
       "      <td>0.000000</td>\n",
       "      <td>0.000000</td>\n",
       "      <td>Information redacted in accordance with CA sta...</td>\n",
       "    </tr>\n",
       "  </tbody>\n",
       "</table>\n",
       "</div>"
      ],
      "text/plain": [
       "   id  as_of_date  zip_code_tabulation_area local_health_jurisdiction  \\\n",
       "0   1  2021-01-05                     91902                 San Diego   \n",
       "1   2  2021-01-05                     92410            San Bernardino   \n",
       "2   3  2021-01-05                     92285            San Bernardino   \n",
       "3   4  2021-01-05                     95621                Sacramento   \n",
       "4   5  2021-01-05                     92656                    Orange   \n",
       "\n",
       "           county  vaccine_equity_metric_quartile                  vem_source  \\\n",
       "0       San Diego                             4.0  Healthy Places Index Score   \n",
       "1  San Bernardino                             1.0  Healthy Places Index Score   \n",
       "2  San Bernardino                             1.0  Healthy Places Index Score   \n",
       "3      Sacramento                             2.0  Healthy Places Index Score   \n",
       "4          Orange                             4.0  Healthy Places Index Score   \n",
       "\n",
       "   age12_plus_population  persons_fully_vaccinated  \\\n",
       "0                16620.7                      22.0   \n",
       "1                35012.3                       0.0   \n",
       "2                 2317.1                       0.0   \n",
       "3                36059.1                      12.0   \n",
       "4                43721.9                       0.0   \n",
       "\n",
       "   persons_partially_vaccinated  percent_of_population_fully_vaccinated  \\\n",
       "0                         372.0                                0.001324   \n",
       "1                           0.0                                0.000000   \n",
       "2                           0.0                                0.000000   \n",
       "3                         412.0                                0.000333   \n",
       "4                           0.0                                0.000000   \n",
       "\n",
       "   percent_of_population_partially_vaccinated  \\\n",
       "0                                    0.022382   \n",
       "1                                    0.000000   \n",
       "2                                    0.000000   \n",
       "3                                    0.011426   \n",
       "4                                    0.000000   \n",
       "\n",
       "   percent_of_population_with_1_plus_dose  \\\n",
       "0                                0.023706   \n",
       "1                                0.000000   \n",
       "2                                0.000000   \n",
       "3                                0.011759   \n",
       "4                                0.000000   \n",
       "\n",
       "                                            redacted  \n",
       "0                                                 No  \n",
       "1  Information redacted in accordance with CA sta...  \n",
       "2  Information redacted in accordance with CA sta...  \n",
       "3                                                 No  \n",
       "4  Information redacted in accordance with CA sta...  "
      ]
     },
     "execution_count": 6,
     "metadata": {},
     "output_type": "execute_result"
    }
   ],
   "source": [
    "# lets see the top 5 rows of dataset.\n",
    "Covid_df.head()"
   ]
  },
  {
   "cell_type": "code",
   "execution_count": 53,
   "id": "8a7daab7-badb-4a4a-ad76-5d05df39db02",
   "metadata": {},
   "outputs": [
    {
     "data": {
      "text/plain": [
       "<sqlite3.Cursor at 0x7ff508c7cce0>"
      ]
     },
     "execution_count": 53,
     "metadata": {},
     "output_type": "execute_result"
    }
   ],
   "source": [
    "# creating sqlite table for storing covid vaccination data.\n",
    "c.execute('''CREATE TABLE Covid_df (id int,  as_of_date date, zip_code_tabulation_area int, local_health_jurisdiction text, county text, vaccine_equity_metric_quartile float, vem_source text, age12_plus_population float, persons_fully_vaccinated float, persons_partially_vaccinated float, percent_of_population_fully_vaccinated float, percent_of_population_partially_vaccinated float, percent_of_population_with_1_plus_dose float, redacted text)''')"
   ]
  },
  {
   "cell_type": "code",
   "execution_count": 54,
   "id": "eab62004-6232-404f-9cce-87fc8fbb6bef",
   "metadata": {},
   "outputs": [],
   "source": [
    "# write the covid vaccination data to a sqlite table\n",
    "Covid_df.to_sql('Covid_df', conn, if_exists='append', index = False)"
   ]
  },
  {
   "cell_type": "code",
   "execution_count": 55,
   "id": "454029cb-7e87-4fe8-bd2c-bc171967aaa9",
   "metadata": {},
   "outputs": [
    {
     "name": "stdout",
     "output_type": "stream",
     "text": [
      "(77616,)\n"
     ]
    }
   ],
   "source": [
    "# This code is to test the sqlite table data\n",
    "# Run select sql query\n",
    "c.execute('select count(*) as cnt from Covid_df')\n",
    " \n",
    "# Fetch all records\n",
    "# as list of tuples\n",
    "records = c.fetchall()\n",
    " \n",
    "# Display result \n",
    "for row in records:\n",
    "    # show row\n",
    "    print(row)"
   ]
  },
  {
   "cell_type": "markdown",
   "id": "47288260-775c-4a51-a4a2-2211c78270b2",
   "metadata": {},
   "source": [
    "## Creating sqlite table for storing postal code data for california state"
   ]
  },
  {
   "cell_type": "code",
   "execution_count": 7,
   "id": "00a37f66-2b06-4bba-b446-b0d67ca33dec",
   "metadata": {},
   "outputs": [],
   "source": [
    "# Reading postal code csv file\n",
    "\n",
    "postal_code=pd.read_csv(\"postal_code_df.csv\")"
   ]
  },
  {
   "cell_type": "code",
   "execution_count": 8,
   "id": "bd2b3ea2-1646-42bd-a6f0-051de90940eb",
   "metadata": {},
   "outputs": [
    {
     "data": {
      "text/html": [
       "<div>\n",
       "<style scoped>\n",
       "    .dataframe tbody tr th:only-of-type {\n",
       "        vertical-align: middle;\n",
       "    }\n",
       "\n",
       "    .dataframe tbody tr th {\n",
       "        vertical-align: top;\n",
       "    }\n",
       "\n",
       "    .dataframe thead th {\n",
       "        text-align: right;\n",
       "    }\n",
       "</style>\n",
       "<table border=\"1\" class=\"dataframe\">\n",
       "  <thead>\n",
       "    <tr style=\"text-align: right;\">\n",
       "      <th></th>\n",
       "      <th>Place</th>\n",
       "      <th>Code</th>\n",
       "      <th>Country</th>\n",
       "      <th>State</th>\n",
       "      <th>City</th>\n",
       "    </tr>\n",
       "  </thead>\n",
       "  <tbody>\n",
       "    <tr>\n",
       "      <th>0</th>\n",
       "      <td>Beverly Hills</td>\n",
       "      <td>90210</td>\n",
       "      <td>United States</td>\n",
       "      <td>California</td>\n",
       "      <td>Los Angeles</td>\n",
       "    </tr>\n",
       "    <tr>\n",
       "      <th>1</th>\n",
       "      <td>Los Angeles</td>\n",
       "      <td>90002</td>\n",
       "      <td>United States</td>\n",
       "      <td>California</td>\n",
       "      <td>Los Angeles</td>\n",
       "    </tr>\n",
       "    <tr>\n",
       "      <th>2</th>\n",
       "      <td>Los Angeles</td>\n",
       "      <td>90003</td>\n",
       "      <td>United States</td>\n",
       "      <td>California</td>\n",
       "      <td>Los Angeles</td>\n",
       "    </tr>\n",
       "    <tr>\n",
       "      <th>3</th>\n",
       "      <td>Los Angeles</td>\n",
       "      <td>90004</td>\n",
       "      <td>United States</td>\n",
       "      <td>California</td>\n",
       "      <td>Los Angeles</td>\n",
       "    </tr>\n",
       "    <tr>\n",
       "      <th>4</th>\n",
       "      <td>Los Angeles</td>\n",
       "      <td>90006</td>\n",
       "      <td>United States</td>\n",
       "      <td>California</td>\n",
       "      <td>Los Angeles</td>\n",
       "    </tr>\n",
       "  </tbody>\n",
       "</table>\n",
       "</div>"
      ],
      "text/plain": [
       "           Place   Code        Country       State         City\n",
       "0  Beverly Hills  90210  United States  California  Los Angeles\n",
       "1    Los Angeles  90002  United States  California  Los Angeles\n",
       "2    Los Angeles  90003  United States  California  Los Angeles\n",
       "3    Los Angeles  90004  United States  California  Los Angeles\n",
       "4    Los Angeles  90006  United States  California  Los Angeles"
      ]
     },
     "execution_count": 8,
     "metadata": {},
     "output_type": "execute_result"
    }
   ],
   "source": [
    "# Lets check the top 5 rows of the dataset.\n",
    "postal_code.head()"
   ]
  },
  {
   "cell_type": "code",
   "execution_count": 10,
   "id": "b00150d3-36b6-422e-9d0b-740cb8537299",
   "metadata": {},
   "outputs": [
    {
     "data": {
      "text/plain": [
       "(200, 5)"
      ]
     },
     "execution_count": 10,
     "metadata": {},
     "output_type": "execute_result"
    }
   ],
   "source": [
    "# Using shape function to check the total number of rows and columns in a dataset.\n",
    "postal_code.shape"
   ]
  },
  {
   "cell_type": "code",
   "execution_count": 50,
   "id": "70a85721-f6f3-4c46-bf37-5b4579653465",
   "metadata": {},
   "outputs": [
    {
     "data": {
      "text/plain": [
       "<sqlite3.Cursor at 0x7ff508c7cce0>"
      ]
     },
     "execution_count": 50,
     "metadata": {},
     "output_type": "execute_result"
    }
   ],
   "source": [
    "# creating sqlite table for storing postal code data for california state.\n",
    "c.execute('''CREATE TABLE postal_code (Place text, Code int, Country text, State text, City text)''')"
   ]
  },
  {
   "cell_type": "code",
   "execution_count": 51,
   "id": "dc068046-e17b-40c7-bb80-50320c9f4d24",
   "metadata": {},
   "outputs": [],
   "source": [
    "# write the postal code data to a sqlite table\n",
    "postal_code.to_sql('postal_code', conn, if_exists='append', index = False)"
   ]
  },
  {
   "cell_type": "code",
   "execution_count": 52,
   "id": "ccb90183-6ebe-4d41-9e6b-1e8dbd5f9cbc",
   "metadata": {},
   "outputs": [
    {
     "name": "stdout",
     "output_type": "stream",
     "text": [
      "(200,)\n"
     ]
    }
   ],
   "source": [
    "# This code is only to test the sqlite table, if data loaded or not.\n",
    "# Run select sql query\n",
    "c.execute('select count(*) as cnt from postal_code')\n",
    " \n",
    "# Fetch all records\n",
    "# as list of tuples\n",
    "records = c.fetchall()\n",
    " \n",
    "# Display result \n",
    "for row in records:\n",
    "    # show row\n",
    "    print(row)"
   ]
  },
  {
   "cell_type": "code",
   "execution_count": 61,
   "id": "90df19d9-08fb-49b0-a385-32638a4581bf",
   "metadata": {},
   "outputs": [
    {
     "name": "stdout",
     "output_type": "stream",
     "text": [
      "Requirement already satisfied: plotly in /Users/milindkumartandel/opt/anaconda3/lib/python3.9/site-packages (5.8.0)\n",
      "Requirement already satisfied: tenacity>=6.2.0 in /Users/milindkumartandel/opt/anaconda3/lib/python3.9/site-packages (from plotly) (8.0.1)\n",
      "Note: you may need to restart the kernel to use updated packages.\n"
     ]
    }
   ],
   "source": [
    "# installing plotty\n",
    "pip install plotly"
   ]
  },
  {
   "cell_type": "markdown",
   "id": "a4656265-7c7c-4010-8c98-611e4e9f6889",
   "metadata": {},
   "source": [
    "## Creating sqlite table for storing the covid cases data for California State"
   ]
  },
  {
   "cell_type": "code",
   "execution_count": 100,
   "id": "56a96be8-66a2-401e-ac48-50363150785c",
   "metadata": {},
   "outputs": [],
   "source": [
    "# Reading the csv file.\n",
    "\n",
    "Covid_cases=pd.read_csv(\"COVID-19_Community_Profile_Report_-_County-Level.csv\")"
   ]
  },
  {
   "cell_type": "code",
   "execution_count": 101,
   "id": "4b2af38f-70a0-477c-81cd-24853883b263",
   "metadata": {},
   "outputs": [
    {
     "data": {
      "text/plain": [
       "(3294, 39)"
      ]
     },
     "execution_count": 101,
     "metadata": {},
     "output_type": "execute_result"
    }
   ],
   "source": [
    "# using the shape function to see the total number of columns and rows in a dataset.\n",
    "Covid_cases.shape"
   ]
  },
  {
   "cell_type": "code",
   "execution_count": 102,
   "id": "d45b3954-929d-4a74-a762-0bcf9b77642e",
   "metadata": {},
   "outputs": [],
   "source": [
    "# Selecting only CA state.\n",
    "Covid_cases = Covid_cases[(Covid_cases['state']=='CA')]"
   ]
  },
  {
   "cell_type": "code",
   "execution_count": 103,
   "id": "9a4a291a-9842-4287-8bfb-07b4ed872910",
   "metadata": {},
   "outputs": [
    {
     "data": {
      "text/plain": [
       "(59, 39)"
      ]
     },
     "execution_count": 103,
     "metadata": {},
     "output_type": "execute_result"
    }
   ],
   "source": [
    "# To chek number of rows and columns\n",
    "Covid_cases.shape"
   ]
  },
  {
   "cell_type": "code",
   "execution_count": 104,
   "id": "6bfec602-04de-41df-ba77-6764b6246837",
   "metadata": {
    "tags": []
   },
   "outputs": [
    {
     "data": {
      "text/plain": [
       "Index(['fips', 'county', 'state', 'fema_region', 'date', 'cases_last_7_days',\n",
       "       'cases_per_100k_last_7_days', 'total_cases',\n",
       "       'cases_pct_change_from_prev_week', 'deaths_last_7_days',\n",
       "       'deaths_per_100k_last_7_days', 'total_deaths',\n",
       "       'deaths_pct_change_from_prev_week', 'test_positivity_rate_last_7_days',\n",
       "       'total_positive_tests_last_7_days', 'total_tests_last_7_days',\n",
       "       'total_tests_per_100k_last_7_days',\n",
       "       'test_positivity_rate_pct_change_from_prev_week',\n",
       "       'total_tests_pct_change_from_prev_week',\n",
       "       'confirmed_covid_hosp_last_7_days',\n",
       "       'confirmed_covid_hosp_per_100_beds_last_7_days',\n",
       "       'confirmed_covid_hosp_per_100_beds_pct_change_from_prev_week',\n",
       "       'suspected_covid_hosp_last_7_days',\n",
       "       'suspected_covid_hosp_per_100_beds_last_7_days',\n",
       "       'suspected_covid_hosp_per_100_beds_pct_change_from_prev_week',\n",
       "       'pct_inpatient_beds_used_avg_last_7_days',\n",
       "       'pct_inpatient_beds_used_abs_change_from_prev_week',\n",
       "       'pct_inpatient_beds_used_covid_avg_last_7_days',\n",
       "       'pct_inpatient_beds_used_covid_abs_change_from_prev_week',\n",
       "       'pct_icu_beds_used_avg_last_7_days',\n",
       "       'pct_icu_beds_used_abs_change_from_prev_week',\n",
       "       'pct_icu_beds_used_covid_avg_last_7_days',\n",
       "       'pct_icu_beds_used_covid_abs_change_from_prev_week',\n",
       "       'pct_vents_used_avg_last_7_days',\n",
       "       'pct_vents_used_abs_change_from_prev_week',\n",
       "       'pct_vents_used_covid_avg_last_7_days',\n",
       "       'pct_vents_used_covid_abs_change_from_prev_week',\n",
       "       'pct_fully_vacc_total_pop', 'pct_fully_vacc_65_and_older'],\n",
       "      dtype='object')"
      ]
     },
     "execution_count": 104,
     "metadata": {},
     "output_type": "execute_result"
    }
   ],
   "source": [
    "# To check all the column names.\n",
    "Covid_cases.columns"
   ]
  },
  {
   "cell_type": "markdown",
   "id": "491846ba-20ff-4f69-83e7-efbc098e70dd",
   "metadata": {},
   "source": [
    "#### As we can see the above covid cases dataset has so many columns and i am not planning to use all of them for my data analysis. so lets clean the dataset by creating the dataset with only selected columns"
   ]
  },
  {
   "cell_type": "code",
   "execution_count": 105,
   "id": "1bf24dc9-7c9c-4b0f-8e31-4a74ed63da0b",
   "metadata": {},
   "outputs": [],
   "source": [
    "# This new dataset will look more clean and it would be easy for me to read the data.\n",
    "\n",
    "Covid_cases = Covid_cases.filter(['fips', 'county', 'state', 'fema_region', 'date', 'cases_last_7_days', 'total_cases', 'deaths_last_7_days', 'total_deaths', 'total_tests_last_7_days', 'confirmed_covid_hosp_last_7_days', 'pct_fully_vacc_total_pop', 'pct_fully_vacc_65_and_older'], axis=1)"
   ]
  },
  {
   "cell_type": "code",
   "execution_count": 106,
   "id": "ba7ff6a8-de03-4bac-91d1-c78ebaba29aa",
   "metadata": {},
   "outputs": [],
   "source": [
    "# Replacing the Nan values with 0.\n",
    "Covid19_cases = Covid_cases.replace(np.nan, 0)"
   ]
  },
  {
   "cell_type": "code",
   "execution_count": 107,
   "id": "6e484f7a-8dd4-4dfe-ab71-460e1c72b3fb",
   "metadata": {},
   "outputs": [
    {
     "data": {
      "text/html": [
       "<div>\n",
       "<style scoped>\n",
       "    .dataframe tbody tr th:only-of-type {\n",
       "        vertical-align: middle;\n",
       "    }\n",
       "\n",
       "    .dataframe tbody tr th {\n",
       "        vertical-align: top;\n",
       "    }\n",
       "\n",
       "    .dataframe thead th {\n",
       "        text-align: right;\n",
       "    }\n",
       "</style>\n",
       "<table border=\"1\" class=\"dataframe\">\n",
       "  <thead>\n",
       "    <tr style=\"text-align: right;\">\n",
       "      <th></th>\n",
       "      <th>fips</th>\n",
       "      <th>county</th>\n",
       "      <th>state</th>\n",
       "      <th>fema_region</th>\n",
       "      <th>date</th>\n",
       "      <th>cases_last_7_days</th>\n",
       "      <th>total_cases</th>\n",
       "      <th>deaths_last_7_days</th>\n",
       "      <th>total_deaths</th>\n",
       "      <th>total_tests_last_7_days</th>\n",
       "      <th>confirmed_covid_hosp_last_7_days</th>\n",
       "      <th>pct_fully_vacc_total_pop</th>\n",
       "      <th>pct_fully_vacc_65_and_older</th>\n",
       "    </tr>\n",
       "  </thead>\n",
       "  <tbody>\n",
       "    <tr>\n",
       "      <th>190</th>\n",
       "      <td>6000</td>\n",
       "      <td>Unallocated, CA</td>\n",
       "      <td>CA</td>\n",
       "      <td>9.0</td>\n",
       "      <td>05/30/2022 12:00:00 AM</td>\n",
       "      <td>9.0</td>\n",
       "      <td>3717.0</td>\n",
       "      <td>0.0</td>\n",
       "      <td>0.0</td>\n",
       "      <td>18340.0</td>\n",
       "      <td>0.000</td>\n",
       "      <td>0.000</td>\n",
       "      <td>0.000</td>\n",
       "    </tr>\n",
       "    <tr>\n",
       "      <th>191</th>\n",
       "      <td>6001</td>\n",
       "      <td>Alameda County, CA</td>\n",
       "      <td>CA</td>\n",
       "      <td>9.0</td>\n",
       "      <td>05/30/2022 12:00:00 AM</td>\n",
       "      <td>5878.0</td>\n",
       "      <td>296476.0</td>\n",
       "      <td>5.0</td>\n",
       "      <td>1863.0</td>\n",
       "      <td>68776.0</td>\n",
       "      <td>175.129</td>\n",
       "      <td>0.826</td>\n",
       "      <td>0.946</td>\n",
       "    </tr>\n",
       "    <tr>\n",
       "      <th>192</th>\n",
       "      <td>6003</td>\n",
       "      <td>Alpine County, CA</td>\n",
       "      <td>CA</td>\n",
       "      <td>9.0</td>\n",
       "      <td>05/30/2022 12:00:00 AM</td>\n",
       "      <td>0.0</td>\n",
       "      <td>127.0</td>\n",
       "      <td>0.0</td>\n",
       "      <td>0.0</td>\n",
       "      <td>0.0</td>\n",
       "      <td>0.041</td>\n",
       "      <td>0.000</td>\n",
       "      <td>0.000</td>\n",
       "    </tr>\n",
       "    <tr>\n",
       "      <th>193</th>\n",
       "      <td>6005</td>\n",
       "      <td>Amador County, CA</td>\n",
       "      <td>CA</td>\n",
       "      <td>9.0</td>\n",
       "      <td>05/30/2022 12:00:00 AM</td>\n",
       "      <td>71.0</td>\n",
       "      <td>9374.0</td>\n",
       "      <td>0.0</td>\n",
       "      <td>86.0</td>\n",
       "      <td>0.0</td>\n",
       "      <td>3.001</td>\n",
       "      <td>0.538</td>\n",
       "      <td>0.815</td>\n",
       "    </tr>\n",
       "    <tr>\n",
       "      <th>194</th>\n",
       "      <td>6007</td>\n",
       "      <td>Butte County, CA</td>\n",
       "      <td>CA</td>\n",
       "      <td>9.0</td>\n",
       "      <td>05/30/2022 12:00:00 AM</td>\n",
       "      <td>311.0</td>\n",
       "      <td>40813.0</td>\n",
       "      <td>0.0</td>\n",
       "      <td>426.0</td>\n",
       "      <td>2390.0</td>\n",
       "      <td>11.918</td>\n",
       "      <td>0.541</td>\n",
       "      <td>0.792</td>\n",
       "    </tr>\n",
       "  </tbody>\n",
       "</table>\n",
       "</div>"
      ],
      "text/plain": [
       "     fips              county state  fema_region                    date  \\\n",
       "190  6000     Unallocated, CA    CA          9.0  05/30/2022 12:00:00 AM   \n",
       "191  6001  Alameda County, CA    CA          9.0  05/30/2022 12:00:00 AM   \n",
       "192  6003   Alpine County, CA    CA          9.0  05/30/2022 12:00:00 AM   \n",
       "193  6005   Amador County, CA    CA          9.0  05/30/2022 12:00:00 AM   \n",
       "194  6007    Butte County, CA    CA          9.0  05/30/2022 12:00:00 AM   \n",
       "\n",
       "     cases_last_7_days  total_cases  deaths_last_7_days  total_deaths  \\\n",
       "190                9.0       3717.0                 0.0           0.0   \n",
       "191             5878.0     296476.0                 5.0        1863.0   \n",
       "192                0.0        127.0                 0.0           0.0   \n",
       "193               71.0       9374.0                 0.0          86.0   \n",
       "194              311.0      40813.0                 0.0         426.0   \n",
       "\n",
       "     total_tests_last_7_days  confirmed_covid_hosp_last_7_days  \\\n",
       "190                  18340.0                             0.000   \n",
       "191                  68776.0                           175.129   \n",
       "192                      0.0                             0.041   \n",
       "193                      0.0                             3.001   \n",
       "194                   2390.0                            11.918   \n",
       "\n",
       "     pct_fully_vacc_total_pop  pct_fully_vacc_65_and_older  \n",
       "190                     0.000                        0.000  \n",
       "191                     0.826                        0.946  \n",
       "192                     0.000                        0.000  \n",
       "193                     0.538                        0.815  \n",
       "194                     0.541                        0.792  "
      ]
     },
     "execution_count": 107,
     "metadata": {},
     "output_type": "execute_result"
    }
   ],
   "source": [
    "# Lets check the top 5 rows.\n",
    "Covid19_cases.head()"
   ]
  },
  {
   "cell_type": "code",
   "execution_count": 108,
   "id": "5ef91811-8ead-45aa-91f1-5a86afa2d646",
   "metadata": {},
   "outputs": [],
   "source": [
    "# The county columns has \"county, CA\" phrase everywhere in data. Lets remove them to make more sense.\n",
    "# Also I will be using this columns for joining so it will be good to remove extra text and commas from the data.\n",
    "\n",
    "Covid19_cases[\"county\"] = Covid19_cases[\"county\"].str.replace(\" County, CA\",\"\")"
   ]
  },
  {
   "cell_type": "code",
   "execution_count": 109,
   "id": "c4b66f06-4119-400c-b7b2-8bb5d9d5ccc1",
   "metadata": {},
   "outputs": [
    {
     "data": {
      "text/html": [
       "<div>\n",
       "<style scoped>\n",
       "    .dataframe tbody tr th:only-of-type {\n",
       "        vertical-align: middle;\n",
       "    }\n",
       "\n",
       "    .dataframe tbody tr th {\n",
       "        vertical-align: top;\n",
       "    }\n",
       "\n",
       "    .dataframe thead th {\n",
       "        text-align: right;\n",
       "    }\n",
       "</style>\n",
       "<table border=\"1\" class=\"dataframe\">\n",
       "  <thead>\n",
       "    <tr style=\"text-align: right;\">\n",
       "      <th></th>\n",
       "      <th>fips</th>\n",
       "      <th>county</th>\n",
       "      <th>state</th>\n",
       "      <th>fema_region</th>\n",
       "      <th>date</th>\n",
       "      <th>cases_last_7_days</th>\n",
       "      <th>total_cases</th>\n",
       "      <th>deaths_last_7_days</th>\n",
       "      <th>total_deaths</th>\n",
       "      <th>total_tests_last_7_days</th>\n",
       "      <th>confirmed_covid_hosp_last_7_days</th>\n",
       "      <th>pct_fully_vacc_total_pop</th>\n",
       "      <th>pct_fully_vacc_65_and_older</th>\n",
       "    </tr>\n",
       "  </thead>\n",
       "  <tbody>\n",
       "    <tr>\n",
       "      <th>190</th>\n",
       "      <td>6000</td>\n",
       "      <td>Unallocated, CA</td>\n",
       "      <td>CA</td>\n",
       "      <td>9.0</td>\n",
       "      <td>05/30/2022 12:00:00 AM</td>\n",
       "      <td>9.0</td>\n",
       "      <td>3717.0</td>\n",
       "      <td>0.0</td>\n",
       "      <td>0.0</td>\n",
       "      <td>18340.0</td>\n",
       "      <td>0.000</td>\n",
       "      <td>0.000</td>\n",
       "      <td>0.000</td>\n",
       "    </tr>\n",
       "    <tr>\n",
       "      <th>191</th>\n",
       "      <td>6001</td>\n",
       "      <td>Alameda</td>\n",
       "      <td>CA</td>\n",
       "      <td>9.0</td>\n",
       "      <td>05/30/2022 12:00:00 AM</td>\n",
       "      <td>5878.0</td>\n",
       "      <td>296476.0</td>\n",
       "      <td>5.0</td>\n",
       "      <td>1863.0</td>\n",
       "      <td>68776.0</td>\n",
       "      <td>175.129</td>\n",
       "      <td>0.826</td>\n",
       "      <td>0.946</td>\n",
       "    </tr>\n",
       "    <tr>\n",
       "      <th>192</th>\n",
       "      <td>6003</td>\n",
       "      <td>Alpine</td>\n",
       "      <td>CA</td>\n",
       "      <td>9.0</td>\n",
       "      <td>05/30/2022 12:00:00 AM</td>\n",
       "      <td>0.0</td>\n",
       "      <td>127.0</td>\n",
       "      <td>0.0</td>\n",
       "      <td>0.0</td>\n",
       "      <td>0.0</td>\n",
       "      <td>0.041</td>\n",
       "      <td>0.000</td>\n",
       "      <td>0.000</td>\n",
       "    </tr>\n",
       "    <tr>\n",
       "      <th>193</th>\n",
       "      <td>6005</td>\n",
       "      <td>Amador</td>\n",
       "      <td>CA</td>\n",
       "      <td>9.0</td>\n",
       "      <td>05/30/2022 12:00:00 AM</td>\n",
       "      <td>71.0</td>\n",
       "      <td>9374.0</td>\n",
       "      <td>0.0</td>\n",
       "      <td>86.0</td>\n",
       "      <td>0.0</td>\n",
       "      <td>3.001</td>\n",
       "      <td>0.538</td>\n",
       "      <td>0.815</td>\n",
       "    </tr>\n",
       "    <tr>\n",
       "      <th>194</th>\n",
       "      <td>6007</td>\n",
       "      <td>Butte</td>\n",
       "      <td>CA</td>\n",
       "      <td>9.0</td>\n",
       "      <td>05/30/2022 12:00:00 AM</td>\n",
       "      <td>311.0</td>\n",
       "      <td>40813.0</td>\n",
       "      <td>0.0</td>\n",
       "      <td>426.0</td>\n",
       "      <td>2390.0</td>\n",
       "      <td>11.918</td>\n",
       "      <td>0.541</td>\n",
       "      <td>0.792</td>\n",
       "    </tr>\n",
       "  </tbody>\n",
       "</table>\n",
       "</div>"
      ],
      "text/plain": [
       "     fips           county state  fema_region                    date  \\\n",
       "190  6000  Unallocated, CA    CA          9.0  05/30/2022 12:00:00 AM   \n",
       "191  6001          Alameda    CA          9.0  05/30/2022 12:00:00 AM   \n",
       "192  6003           Alpine    CA          9.0  05/30/2022 12:00:00 AM   \n",
       "193  6005           Amador    CA          9.0  05/30/2022 12:00:00 AM   \n",
       "194  6007            Butte    CA          9.0  05/30/2022 12:00:00 AM   \n",
       "\n",
       "     cases_last_7_days  total_cases  deaths_last_7_days  total_deaths  \\\n",
       "190                9.0       3717.0                 0.0           0.0   \n",
       "191             5878.0     296476.0                 5.0        1863.0   \n",
       "192                0.0        127.0                 0.0           0.0   \n",
       "193               71.0       9374.0                 0.0          86.0   \n",
       "194              311.0      40813.0                 0.0         426.0   \n",
       "\n",
       "     total_tests_last_7_days  confirmed_covid_hosp_last_7_days  \\\n",
       "190                  18340.0                             0.000   \n",
       "191                  68776.0                           175.129   \n",
       "192                      0.0                             0.041   \n",
       "193                      0.0                             3.001   \n",
       "194                   2390.0                            11.918   \n",
       "\n",
       "     pct_fully_vacc_total_pop  pct_fully_vacc_65_and_older  \n",
       "190                     0.000                        0.000  \n",
       "191                     0.826                        0.946  \n",
       "192                     0.000                        0.000  \n",
       "193                     0.538                        0.815  \n",
       "194                     0.541                        0.792  "
      ]
     },
     "execution_count": 109,
     "metadata": {},
     "output_type": "execute_result"
    }
   ],
   "source": [
    "# Lets again check the top 5 rows of the dataset.\n",
    "Covid19_cases.head()"
   ]
  },
  {
   "cell_type": "code",
   "execution_count": 91,
   "id": "2bfaeb8c-6681-464c-887a-50746706e7bc",
   "metadata": {},
   "outputs": [
    {
     "data": {
      "text/plain": [
       "<sqlite3.Cursor at 0x7ff508c7cce0>"
      ]
     },
     "execution_count": 91,
     "metadata": {},
     "output_type": "execute_result"
    }
   ],
   "source": [
    "# creating sqlite table for storing covid cases data for California state.\n",
    "c.execute('''CREATE TABLE Covid19_cases (fips int, county text, state text, fema_region int, date date, cases_last_7_days float, 'total_cases' float, 'deaths_last_7_days' float, 'total_deaths' float, 'total_tests_last_7_days' float, 'confirmed_covid_hosp_last_7_days' float, 'pct_fully_vacc_total_pop' float, 'pct_fully_vacc_65_and_older' float)''')\n"
   ]
  },
  {
   "cell_type": "code",
   "execution_count": 110,
   "id": "396199db-91de-4aa0-9806-a95c70d661e6",
   "metadata": {},
   "outputs": [],
   "source": [
    "# write the covid cases data to a sqlite table\n",
    "Covid19_cases.to_sql('Covid19_cases', conn, if_exists='append', index = False)"
   ]
  },
  {
   "cell_type": "code",
   "execution_count": 111,
   "id": "7c065f3c-aaf0-4c12-be34-998c48a640e2",
   "metadata": {
    "tags": []
   },
   "outputs": [
    {
     "name": "stdout",
     "output_type": "stream",
     "text": [
      "(118,)\n"
     ]
    }
   ],
   "source": [
    "# this code is to test the sqlite table content.\n",
    "# Run select sql query\n",
    "c.execute('select count(*) as cnt from Covid19_cases')\n",
    " \n",
    "# Fetch all records\n",
    "# as list of tuples\n",
    "records = c.fetchall()\n",
    " \n",
    "# Display result \n",
    "for row in records:\n",
    "    # show row\n",
    "    print(row)"
   ]
  },
  {
   "cell_type": "markdown",
   "id": "78021b17-19ea-4b93-9a0b-34f5894dfbc4",
   "metadata": {},
   "source": [
    "# 1. Vaccination in CA state"
   ]
  },
  {
   "cell_type": "code",
   "execution_count": 168,
   "id": "8d01539c-ddac-4437-b12e-6f87c916af16",
   "metadata": {},
   "outputs": [
    {
     "data": {
      "image/png": "[encoded data removed]",
      "text/plain": [
       "<Figure size 432x288 with 1 Axes>"
      ]
     },
     "metadata": {
      "needs_background": "light"
     },
     "output_type": "display_data"
    }
   ],
   "source": [
    "# storing the select query in sql variable.\n",
    "sql = \"\"\"SELECT sum(persons_fully_vaccinated) as cnt, local_health_jurisdiction FROM Covid_df GROUP BY local_health_jurisdiction order by cnt desc limit 10\"\"\"\n",
    "\n",
    "# Read the data for above query.\n",
    "data = pd.read_sql(sql, conn)\n",
    "plt.xticks(rotation=45)\n",
    "# Using the bar graph to see vaccination by jurisdiction\n",
    "plt.bar(data.local_health_jurisdiction, data.cnt)\n",
    "plt.title(\"Person fully Vaccinated\")\n",
    "plt.show()"
   ]
  },
  {
   "cell_type": "markdown",
   "id": "e6c3738d-6a7e-4349-98de-13c6d7b47db2",
   "metadata": {
    "tags": []
   },
   "source": [
    "### For above visualization we can see that Los Angeles is the city where most of the people are fully vaccinated. Please not I am showing only top 10 rows of the dataset."
   ]
  },
  {
   "cell_type": "markdown",
   "id": "af649ea0-8aef-49dc-9d58-74760323e868",
   "metadata": {},
   "source": [
    "### This visualization will show the total vaccination by jurisdiction. We can see How many total vaccines have been used in California state by jurisdiction. Looking at the above grapg we can say that Los Angeles has most vaccines followed by San Diego, Orange, Santa clara and go on."
   ]
  },
  {
   "cell_type": "code",
   "execution_count": 172,
   "id": "43a65afa-f572-4976-a807-6fda2bbba9c1",
   "metadata": {},
   "outputs": [
    {
     "data": {
      "text/html": [
       "<div>\n",
       "<style scoped>\n",
       "    .dataframe tbody tr th:only-of-type {\n",
       "        vertical-align: middle;\n",
       "    }\n",
       "\n",
       "    .dataframe tbody tr th {\n",
       "        vertical-align: top;\n",
       "    }\n",
       "\n",
       "    .dataframe thead th {\n",
       "        text-align: right;\n",
       "    }\n",
       "</style>\n",
       "<table border=\"1\" class=\"dataframe\">\n",
       "  <thead>\n",
       "    <tr style=\"text-align: right;\">\n",
       "      <th></th>\n",
       "      <th>vaccine_total</th>\n",
       "    </tr>\n",
       "  </thead>\n",
       "  <tbody>\n",
       "    <tr>\n",
       "      <th>Los Angeles</th>\n",
       "      <td>156571359.0</td>\n",
       "    </tr>\n",
       "    <tr>\n",
       "      <th>San Diego</th>\n",
       "      <td>56331558.0</td>\n",
       "    </tr>\n",
       "    <tr>\n",
       "      <th>Orange</th>\n",
       "      <td>54746501.0</td>\n",
       "    </tr>\n",
       "    <tr>\n",
       "      <th>Santa Clara</th>\n",
       "      <td>39684066.0</td>\n",
       "    </tr>\n",
       "    <tr>\n",
       "      <th>Riverside</th>\n",
       "      <td>32200306.0</td>\n",
       "    </tr>\n",
       "    <tr>\n",
       "      <th>...</th>\n",
       "      <td>...</td>\n",
       "    </tr>\n",
       "    <tr>\n",
       "      <th>Trinity</th>\n",
       "      <td>136655.0</td>\n",
       "    </tr>\n",
       "    <tr>\n",
       "      <th>Modoc</th>\n",
       "      <td>99322.0</td>\n",
       "    </tr>\n",
       "    <tr>\n",
       "      <th>Sierra</th>\n",
       "      <td>25817.0</td>\n",
       "    </tr>\n",
       "    <tr>\n",
       "      <th>Alpine</th>\n",
       "      <td>14354.0</td>\n",
       "    </tr>\n",
       "    <tr>\n",
       "      <th>0</th>\n",
       "      <td>0.0</td>\n",
       "    </tr>\n",
       "  </tbody>\n",
       "</table>\n",
       "<p>62 rows × 1 columns</p>\n",
       "</div>"
      ],
      "text/plain": [
       "             vaccine_total\n",
       "Los Angeles    156571359.0\n",
       "San Diego       56331558.0\n",
       "Orange          54746501.0\n",
       "Santa Clara     39684066.0\n",
       "Riverside       32200306.0\n",
       "...                    ...\n",
       "Trinity           136655.0\n",
       "Modoc              99322.0\n",
       "Sierra             25817.0\n",
       "Alpine             14354.0\n",
       "0                      0.0\n",
       "\n",
       "[62 rows x 1 columns]"
      ]
     },
     "execution_count": 172,
     "metadata": {},
     "output_type": "execute_result"
    }
   ],
   "source": [
    "# Using the loop to count the total number of vaccine of california state by Jurisdiction.\n",
    "vaccine_total = {}\n",
    "for local_health_jurisdiction in Covid_df.local_health_jurisdiction.unique() : # look for unique jurisdiction value\n",
    "    vaccinated = 0\n",
    "    for i in range(len(Covid_df)) : \n",
    "        if Covid_df.local_health_jurisdiction[i] == local_health_jurisdiction : \n",
    "            vaccinated += Covid_df.persons_fully_vaccinated[i]\n",
    "    vaccine_total[local_health_jurisdiction] = vaccinated \n",
    "#     made a seperate dict from the df \n",
    "    vaccine_total_df = pd.DataFrame.from_dict(vaccine_total,\n",
    "                                                         orient='index',\n",
    "                                                         columns = ['vaccine_total'])\n",
    "#     converted dict to df \n",
    "vaccine_total_df.sort_values(by = 'vaccine_total', ascending = False, inplace = True)\n",
    "vaccine_total_df"
   ]
  },
  {
   "cell_type": "markdown",
   "id": "52bdd4b0-d144-4688-b5bc-2113da94d6a3",
   "metadata": {
    "tags": []
   },
   "source": [
    "### Above data is showing the exact number of vaccination completed tin california state by Jurisdiction."
   ]
  },
  {
   "cell_type": "markdown",
   "id": "53f4934d-1dc1-49a4-b1e8-32d1b0aa99c0",
   "metadata": {},
   "source": [
    "## 2. Number of returns filed in California State"
   ]
  },
  {
   "cell_type": "code",
   "execution_count": 177,
   "id": "afa0db6a-89eb-49e7-9d06-5aa8860e6561",
   "metadata": {},
   "outputs": [
    {
     "data": {
      "image/png": "[encoded data removed]",
      "text/plain": [
       "<Figure size 432x288 with 1 Axes>"
      ]
     },
     "metadata": {
      "needs_background": "light"
     },
     "output_type": "display_data"
    }
   ],
   "source": [
    "# Storing select query in sql variable.\n",
    "sql = \"\"\"SELECT sum(IRS_CA_df.No_of_Returns) as No_of_Returns, postal_code.City FROM IRS_CA_df JOIN postal_code ON IRS_CA_df.ZIPCODE = postal_code.code GROUP BY postal_code.City order by No_of_Returns desc limit 5\"\"\"\n",
    "# reading sql query\n",
    "data = pd.read_sql(sql, conn)\n",
    "plt.xticks(rotation=45)\n",
    "#x values: data.Country,  y values: data.sum_deaths\n",
    "plt.bar(data.City, data.No_of_Returns)\n",
    "plt.title(\"No_of_Returns by city\")\n",
    "plt.show()"
   ]
  },
  {
   "cell_type": "markdown",
   "id": "bed1d394-28b2-453a-8278-d7e46fb7f515",
   "metadata": {},
   "source": [
    "#### The above bar graph shows that the Los Angeles is the city in California state where number of returns are maximum"
   ]
  },
  {
   "cell_type": "markdown",
   "id": "34e45b91-3371-4a08-ae30-9f56e4e87aeb",
   "metadata": {},
   "source": [
    "### From above 2 bar graphs vaccination by Jurisdiction and Number of returns by city, it would be save to say that cities where persons are working and submitting the returns are doing good and the rate of taking vaccination is high compare to other cities with less number of returns."
   ]
  },
  {
   "cell_type": "markdown",
   "id": "d9d1729f-3e6d-4e30-9db1-f475b05aaef0",
   "metadata": {},
   "source": [
    "## This proves the first assumption for our dataset as the state with more filed return has high vaccination rate."
   ]
  },
  {
   "cell_type": "markdown",
   "id": "8991155b-de9d-4f09-b62b-281189e7bf2e",
   "metadata": {
    "tags": []
   },
   "source": [
    "## 3. Covid Cases vs Vaccination count in California State"
   ]
  },
  {
   "cell_type": "markdown",
   "id": "b314f968-f4cb-430c-8c4d-8b05e514cc3d",
   "metadata": {},
   "source": [
    "### After looking at the returns filed and vaccination, it would be interesting to see how the covid cases decreasing with increase of vaccinication?"
   ]
  },
  {
   "cell_type": "code",
   "execution_count": 174,
   "id": "146c2850-9d4b-4a9a-a675-b9f66fa06516",
   "metadata": {},
   "outputs": [],
   "source": [
    "# Storing the query in sql variable.\n",
    "sql = \"\"\"SELECT sum(Covid19_cases.total_cases) as Covid_cases, sum((Covid_df.persons_fully_vaccinated * Covid_df.age12_plus_population)/100) as fully_vaccinated , Covid19_cases.county FROM Covid19_cases \n",
    "        JOIN Covid_df ON Covid19_cases.county = Covid_df.county GROUP BY Covid_df.county order by persons_fully_vaccinated desc limit 10\"\"\"\n",
    "# Reaing the query result\n",
    "data = pd.read_sql(sql, conn)"
   ]
  },
  {
   "cell_type": "code",
   "execution_count": 175,
   "id": "8384c9cf-84d4-49db-b0c3-7e38092d63ef",
   "metadata": {},
   "outputs": [
    {
     "data": {
      "image/png": "[encoded data removed]",
      "text/plain": [
       "<Figure size 432x288 with 1 Axes>"
      ]
     },
     "metadata": {
      "needs_background": "light"
     },
     "output_type": "display_data"
    }
   ],
   "source": [
    "# Covid cases and vaccination by county.\n",
    "X = data.county\n",
    "cases = data.Covid_cases\n",
    "Vaccine = data.fully_vaccinated\n",
    "  \n",
    "X_axis = np.arange(len(data.county))\n",
    "  \n",
    "plt.bar(X_axis - 0.2, cases, 0.4, label = 'Covid Cases')\n",
    "plt.bar(X_axis + 0.2, Vaccine, 0.4, label = 'Vaccination Count')\n",
    "  \n",
    "plt.xticks(X_axis, X)\n",
    "plt.xticks(rotation=45)\n",
    "plt.xlabel(\"County\")\n",
    "plt.ylabel(\"Count\")\n",
    "plt.title(\"Covid cases and Vaccination by County\")\n",
    "plt.legend()\n",
    "plt.show()"
   ]
  },
  {
   "cell_type": "markdown",
   "id": "db4bc66f-7a5a-4fbb-8b9f-817a7813b595",
   "metadata": {},
   "source": [
    "### Its is intersting to see that covid cases is decreasing with increase of vaccination. We can see most vaccination in county Venture."
   ]
  },
  {
   "cell_type": "markdown",
   "id": "2c4948ca-84ee-4e6c-b1b9-47c659c560a2",
   "metadata": {},
   "source": [
    "## 4. Covid Deaths vs Vaccination count in California State"
   ]
  },
  {
   "cell_type": "code",
   "execution_count": 180,
   "id": "305b6684-42ed-4bba-961e-a8e926c59935",
   "metadata": {},
   "outputs": [],
   "source": [
    "# Storing the query in sql variable.\n",
    "sql = \"\"\"SELECT sum(Covid19_cases.total_deaths) as Covid_deaths, sum((Covid_df.persons_fully_vaccinated * Covid_df.age12_plus_population)/100) as fully_vaccinated , Covid19_cases.county FROM Covid19_cases \n",
    "        JOIN Covid_df ON Covid19_cases.county = Covid_df.county GROUP BY Covid_df.county order by persons_fully_vaccinated desc limit 10\"\"\"\n",
    "# Reading the query result.\n",
    "data = pd.read_sql(sql, conn)\n"
   ]
  },
  {
   "cell_type": "code",
   "execution_count": 181,
   "id": "f4d6a685-04f1-4cb1-b45f-7fd192933c51",
   "metadata": {},
   "outputs": [
    {
     "data": {
      "image/png": "[encoded data removed]",
      "text/plain": [
       "<Figure size 432x288 with 1 Axes>"
      ]
     },
     "metadata": {
      "needs_background": "light"
     },
     "output_type": "display_data"
    }
   ],
   "source": [
    "# Covid deaths and Vaccination count by county.\n",
    "X = data.county\n",
    "cases = data.Covid_deaths\n",
    "Vaccine = data.fully_vaccinated\n",
    "  \n",
    "X_axis = np.arange(len(data.county))\n",
    "  \n",
    "plt.bar(X_axis - 0.2, cases, 0.4, label = 'Covid Deaths')\n",
    "plt.bar(X_axis + 0.2, Vaccine, 0.4, label = 'Vaccination Count')\n",
    "  \n",
    "plt.xticks(X_axis, X)\n",
    "plt.xticks(rotation=45)\n",
    "plt.xlabel(\"County\")\n",
    "plt.ylabel(\"Count\")\n",
    "plt.title(\"Covid deaths and vaccination by County\")\n",
    "plt.legend()\n",
    "plt.show()"
   ]
  },
  {
   "cell_type": "markdown",
   "id": "5bc87e7b-49b0-41d5-9169-2a2abfa67130",
   "metadata": {},
   "source": [
    "### As we can see there is a drastic drop in covid deaths after increasing the vaccination in different counties of California state."
   ]
  },
  {
   "cell_type": "markdown",
   "id": "c7193773-0526-460f-9b36-8ab1c35f1666",
   "metadata": {},
   "source": [
    "## 5. Covid Deaths by County in California State"
   ]
  },
  {
   "cell_type": "code",
   "execution_count": 148,
   "id": "fe8a1ca9-4122-4680-b89b-9a8de76d2d41",
   "metadata": {},
   "outputs": [
    {
     "data": {
      "image/png": "[encoded data removed]",
      "text/plain": [
       "<Figure size 432x288 with 1 Axes>"
      ]
     },
     "metadata": {
      "needs_background": "light"
     },
     "output_type": "display_data"
    }
   ],
   "source": [
    "#x values: data.Country,  y values: data.sum_deaths\n",
    "plt.bar(data.county, data.Covid_deaths)\n",
    "plt.xticks(rotation=45)\n",
    "plt.title(\"Covid deaths by County\")\n",
    "plt.show()"
   ]
  },
  {
   "cell_type": "markdown",
   "id": "1546e495-6eb8-4d37-a8d8-72e73f238ece",
   "metadata": {},
   "source": [
    "### As we can see from above graph that county 'Tulare' has maximum deaths in California state."
   ]
  },
  {
   "cell_type": "markdown",
   "id": "a46521ad-2c25-4cc9-bd78-264d2295d2a4",
   "metadata": {},
   "source": [
    "## 6. Maximum Covid Cases by county in California State - top 10"
   ]
  },
  {
   "cell_type": "code",
   "execution_count": 182,
   "id": "7e6eda6a-be1e-4798-8d4b-b50c1d891bf6",
   "metadata": {},
   "outputs": [
    {
     "data": {
      "image/png": "[encoded data removed]",
      "text/plain": [
       "<Figure size 432x288 with 1 Axes>"
      ]
     },
     "metadata": {
      "needs_background": "light"
     },
     "output_type": "display_data"
    }
   ],
   "source": [
    "# Storing the query in sql variable\n",
    "sql = \"\"\"SELECT sum(Covid19_cases.total_cases) as Covid_cases, sum((Covid_df.persons_fully_vaccinated * Covid_df.age12_plus_population)/100) as fully_vaccinated , Covid19_cases.county FROM Covid19_cases \n",
    "        JOIN Covid_df ON Covid19_cases.county = Covid_df.county GROUP BY Covid_df.county order by total_cases desc limit 10\"\"\"\n",
    "# Reading the query result.\n",
    "data = pd.read_sql(sql, conn)\n",
    "plt.xticks(rotation=45)\n",
    "#x values: data.Country,  y values: data.sum_deaths\n",
    "plt.bar(data.county, data.Covid_cases)\n",
    "plt.title(\"Covid Cases by County\")\n",
    "plt.show()"
   ]
  },
  {
   "cell_type": "markdown",
   "id": "6e66c9e2-4da0-4d32-a4fd-d7b39ec820ef",
   "metadata": {},
   "source": [
    "### Los Angeles is the state with maximum covid cases by county in California State."
   ]
  },
  {
   "cell_type": "markdown",
   "id": "34549ab7-5ef7-40d8-8bcd-0d16e6d65d0f",
   "metadata": {},
   "source": [
    "## 7. Minimum Covid Cases by county in California State - last 10"
   ]
  },
  {
   "cell_type": "code",
   "execution_count": 184,
   "id": "8edbed5f-2560-4e08-8020-739e21b57b82",
   "metadata": {},
   "outputs": [
    {
     "data": {
      "image/png": "[encoded data removed]",
      "text/plain": [
       "<Figure size 432x288 with 1 Axes>"
      ]
     },
     "metadata": {
      "needs_background": "light"
     },
     "output_type": "display_data"
    }
   ],
   "source": [
    "# Storing the query in sql variable.\n",
    "sql = \"\"\"SELECT sum(Covid19_cases.total_cases) as Covid_cases, sum((Covid_df.persons_fully_vaccinated * Covid_df.age12_plus_population)/100) as fully_vaccinated , Covid19_cases.county FROM Covid19_cases \n",
    "        JOIN Covid_df ON Covid19_cases.county = Covid_df.county GROUP BY Covid_df.county order by total_cases asc limit 10\"\"\"\n",
    "# Reading the query result.\n",
    "data = pd.read_sql(sql, conn)\n",
    "plt.xticks(rotation=45)\n",
    "#x values: data.Country,  y values: data.sum_deaths\n",
    "plt.bar(data.county, data.Covid_cases)\n",
    "plt.title(\"Covid Cases by County\")\n",
    "plt.show()"
   ]
  },
  {
   "cell_type": "markdown",
   "id": "c15bd7fc-27b7-4096-97a4-b9f80f2790e2",
   "metadata": {
    "tags": []
   },
   "source": [
    "### Above we can see the last 10 counties with minimum covid cases in California state compare to the other counties."
   ]
  },
  {
   "cell_type": "markdown",
   "id": "42aafd56-48f6-4db7-bec7-64b26ac289f8",
   "metadata": {},
   "source": [
    "# Summary of project"
   ]
  },
  {
   "cell_type": "markdown",
   "id": "2a7cbcd0-ea94-48aa-96f5-e08104dac4e9",
   "metadata": {
    "tags": []
   },
   "source": [
    "It’s been more then 2 years since we first heard about the coronavirus. Even with all the facilities available today we are not able to completely get rid of it and still it is a big news. As my term project I have analyzed the corelation between covid cases, vaccination, and number of returns filed in the state of california.\n",
    "\n",
    "I started with vaccination count, and I found that Los Angeles is the Jurisdiction in CA state which has maximum vaccination compared to another jurisdiction. I studied the Number of returns filed to understand if it has any relation with covid vaccination and it is interesting to see that the Los Angeles jurisdiction which has maximum vaccination also has most return filed. So, we can say that working class are taking more vaccination.\n",
    "\n",
    "In my next observation I found that with increase of covid vaccination, the number of covid cases decreases and Ventura County has more vaccination and less covid cases compare to other counties in CA state. I also analyzed covid deaths with vaccination count and realized that deaths in counties decreases with increase in number of vaccinations. Ventura county is again doing good and have less deaths with increase of vaccination in CA state.\n",
    "\n",
    "Sadly 'Tulare' county has maximum deaths and 'Los Angeles' has maximum covid cases in CA state. The minimum covid cases is in Alpine, Serra, and Modoc county.\n",
    "After looking at the data I think we can say that Vaccination is helping counties in decreasing the number of deaths and covid cases so all the counties should emphasize on increasing the vaccination and should encourage people to take all doses of vaccination.\n",
    "\n",
    "\n",
    "For completing the project objective, I have performed following steps:\n",
    "\n",
    "1) Look for data - I first looked for all the covid data sources which I wanted to use in my project. I did all the analysis on California state counties and jurisdiction so i particularly looked for covid cases, Vaccination, return filed data and postal codes data for the state of California.\n",
    "2) Making connection or Reading data: Since I am using different data sources, I got data in CSV, API and HTML format. So, I read the csv's file and did connection for API and web data.\n",
    "3) Cleaning and Formatting of the Data: Once I made the connection to all dataset, I started performing different data transformation to make data clean and easy to read. I have removed duplicates, null values, taken care of outliers, change columns name, filter data to show only California state information, change the format of the data, and others.\n",
    "4) Creating SQLite Database: After all transformation I created SQLite database with individual tables of all selected data sources. \n",
    "5) Analyze the data: Once I have all the data in one place, I created the different visualization to get answers for all the questions which I have in mind while working on projects.\n",
    "\n",
    "\n",
    "As part of ethical implication, I make sure I remained neutral and unbiased and my perceptions or opinion do not impact the different stages like data collection, cleaning and analyzing of project. I have not used any information which can cause any physical or emotional harm. Most of the data for project is coming from reputed government sites, I make sure I followed all the rules while scraping data from web and avoid using any personal information of people.\n",
    "\n",
    "While my study suggests that higher vaccination rate reduces the number of people contracting covid, there are ethical implications to mandating covid vaccination. One should be mindful about an individual's fundamental right to make decisions about one's own body and that includes refusal to take any vaccine or medical treatment.\n"
   ]
  },
  {
   "cell_type": "code",
   "execution_count": null,
   "id": "dee2a64b-7692-4f5c-82e9-e20e53707a00",
   "metadata": {},
   "outputs": [],
   "source": []
  }
 ],
 "metadata": {
  "kernelspec": {
   "display_name": "Python 3 (ipykernel)",
   "language": "python",
   "name": "python3"
  },
  "language_info": {
   "codemirror_mode": {
    "name": "ipython",
    "version": 3
   },
   "file_extension": ".py",
   "mimetype": "text/x-python",
   "name": "python",
   "nbconvert_exporter": "python",
   "pygments_lexer": "ipython3",
   "version": "3.9.7"
  }
 },
 "nbformat": 4,
 "nbformat_minor": 5
}

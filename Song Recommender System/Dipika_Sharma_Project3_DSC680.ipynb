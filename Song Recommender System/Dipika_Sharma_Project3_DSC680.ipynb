{
 "cells": [
  {
   "cell_type": "markdown",
   "id": "71692ac8-3f78-451e-a212-9bb6899ac3c9",
   "metadata": {
    "tags": []
   },
   "source": [
    "### Dipika Sharma\n",
    "#### Project 3: Song Recommender System\n",
    "#### DSC680, Weeks 9 - 12"
   ]
  },
  {
   "cell_type": "code",
   "execution_count": 1,
   "id": "2fda6939-513d-450b-8462-bf389a110b11",
   "metadata": {},
   "outputs": [],
   "source": [
    "import numpy as np\n",
    "import pandas as pd\n",
    "import matplotlib.pyplot as plt\n",
    "import seaborn as sb\n",
    "\n",
    "from sklearn.manifold import TSNE\n",
    "from sklearn.preprocessing import StandardScaler\n",
    "from sklearn.datasets import fetch_openml\n",
    "\n",
    "from sklearn.metrics.pairwise import cosine_similarity\n",
    "from sklearn.feature_extraction.text import CountVectorizer\n",
    "from sklearn.manifold import TSNE\n",
    " \n",
    "import warnings\n",
    "warnings.filterwarnings('ignore')"
   ]
  },
  {
   "cell_type": "code",
   "execution_count": 2,
   "id": "c0f75397-233b-4084-8da4-83c5c41fea60",
   "metadata": {},
   "outputs": [
    {
     "data": {
      "text/html": [
       "<div>\n",
       "<style scoped>\n",
       "    .dataframe tbody tr th:only-of-type {\n",
       "        vertical-align: middle;\n",
       "    }\n",
       "\n",
       "    .dataframe tbody tr th {\n",
       "        vertical-align: top;\n",
       "    }\n",
       "\n",
       "    .dataframe thead th {\n",
       "        text-align: right;\n",
       "    }\n",
       "</style>\n",
       "<table border=\"1\" class=\"dataframe\">\n",
       "  <thead>\n",
       "    <tr style=\"text-align: right;\">\n",
       "      <th></th>\n",
       "      <th>id</th>\n",
       "      <th>name</th>\n",
       "      <th>artists</th>\n",
       "      <th>id_artists</th>\n",
       "      <th>genres</th>\n",
       "      <th>release_year</th>\n",
       "      <th>duration_s</th>\n",
       "      <th>popularity</th>\n",
       "      <th>danceability</th>\n",
       "      <th>energy</th>\n",
       "      <th>key</th>\n",
       "      <th>loudness</th>\n",
       "      <th>mode</th>\n",
       "      <th>speechiness</th>\n",
       "      <th>acousticness</th>\n",
       "      <th>instrumentalness</th>\n",
       "      <th>liveness</th>\n",
       "      <th>valence</th>\n",
       "      <th>tempo</th>\n",
       "    </tr>\n",
       "  </thead>\n",
       "  <tbody>\n",
       "    <tr>\n",
       "      <th>0</th>\n",
       "      <td>35iwgR4jXetI318WEWsa1Q</td>\n",
       "      <td>Carve</td>\n",
       "      <td>Uli</td>\n",
       "      <td>['45tIt06XoI0Iio4LBEVpls']</td>\n",
       "      <td>NaN</td>\n",
       "      <td>1922</td>\n",
       "      <td>126.903</td>\n",
       "      <td>6</td>\n",
       "      <td>0.645</td>\n",
       "      <td>0.4450</td>\n",
       "      <td>0</td>\n",
       "      <td>46.662</td>\n",
       "      <td>1</td>\n",
       "      <td>0.4510</td>\n",
       "      <td>0.674</td>\n",
       "      <td>0.7440</td>\n",
       "      <td>0.151</td>\n",
       "      <td>0.127</td>\n",
       "      <td>104.851</td>\n",
       "    </tr>\n",
       "    <tr>\n",
       "      <th>1</th>\n",
       "      <td>021ht4sdgPcrDgSk7JTbKY</td>\n",
       "      <td>Capítulo 2.16 - Banquero Anarquista</td>\n",
       "      <td>Fernando Pessoa</td>\n",
       "      <td>['14jtPCOoNZwquk5wd9DxrY']</td>\n",
       "      <td>NaN</td>\n",
       "      <td>1922</td>\n",
       "      <td>98.200</td>\n",
       "      <td>0</td>\n",
       "      <td>0.695</td>\n",
       "      <td>0.2630</td>\n",
       "      <td>0</td>\n",
       "      <td>37.864</td>\n",
       "      <td>1</td>\n",
       "      <td>0.9570</td>\n",
       "      <td>0.797</td>\n",
       "      <td>0.0000</td>\n",
       "      <td>0.148</td>\n",
       "      <td>0.655</td>\n",
       "      <td>102.009</td>\n",
       "    </tr>\n",
       "    <tr>\n",
       "      <th>2</th>\n",
       "      <td>07A5yehtSnoedViJAZkNnc</td>\n",
       "      <td>Vivo para Quererte - Remasterizado</td>\n",
       "      <td>Ignacio Corsini</td>\n",
       "      <td>['5LiOoJbxVSAMkBS2fUm3X2']</td>\n",
       "      <td>tango vintage tango</td>\n",
       "      <td>1922</td>\n",
       "      <td>181.640</td>\n",
       "      <td>0</td>\n",
       "      <td>0.434</td>\n",
       "      <td>0.1770</td>\n",
       "      <td>1</td>\n",
       "      <td>38.820</td>\n",
       "      <td>1</td>\n",
       "      <td>0.0512</td>\n",
       "      <td>0.994</td>\n",
       "      <td>0.0218</td>\n",
       "      <td>0.212</td>\n",
       "      <td>0.457</td>\n",
       "      <td>130.418</td>\n",
       "    </tr>\n",
       "    <tr>\n",
       "      <th>3</th>\n",
       "      <td>08FmqUhxtyLTn6pAh6bk45</td>\n",
       "      <td>El Prisionero - Remasterizado</td>\n",
       "      <td>Ignacio Corsini</td>\n",
       "      <td>['5LiOoJbxVSAMkBS2fUm3X2']</td>\n",
       "      <td>tango vintage tango</td>\n",
       "      <td>1922</td>\n",
       "      <td>176.907</td>\n",
       "      <td>0</td>\n",
       "      <td>0.321</td>\n",
       "      <td>0.0946</td>\n",
       "      <td>7</td>\n",
       "      <td>32.039</td>\n",
       "      <td>1</td>\n",
       "      <td>0.0504</td>\n",
       "      <td>0.995</td>\n",
       "      <td>0.9180</td>\n",
       "      <td>0.104</td>\n",
       "      <td>0.397</td>\n",
       "      <td>169.980</td>\n",
       "    </tr>\n",
       "    <tr>\n",
       "      <th>4</th>\n",
       "      <td>08y9GfoqCWfOGsKdwojr5e</td>\n",
       "      <td>Lady of the Evening</td>\n",
       "      <td>Dick Haymes</td>\n",
       "      <td>['3BiJGZsyX9sJchTqcSA7Su']</td>\n",
       "      <td>adult standards big band easy listening lounge...</td>\n",
       "      <td>1922</td>\n",
       "      <td>163.080</td>\n",
       "      <td>0</td>\n",
       "      <td>0.402</td>\n",
       "      <td>0.1580</td>\n",
       "      <td>3</td>\n",
       "      <td>43.100</td>\n",
       "      <td>0</td>\n",
       "      <td>0.0390</td>\n",
       "      <td>0.989</td>\n",
       "      <td>0.1300</td>\n",
       "      <td>0.311</td>\n",
       "      <td>0.196</td>\n",
       "      <td>103.220</td>\n",
       "    </tr>\n",
       "  </tbody>\n",
       "</table>\n",
       "</div>"
      ],
      "text/plain": [
       "                       id                                 name  \\\n",
       "0  35iwgR4jXetI318WEWsa1Q                                Carve   \n",
       "1  021ht4sdgPcrDgSk7JTbKY  Capítulo 2.16 - Banquero Anarquista   \n",
       "2  07A5yehtSnoedViJAZkNnc   Vivo para Quererte - Remasterizado   \n",
       "3  08FmqUhxtyLTn6pAh6bk45        El Prisionero - Remasterizado   \n",
       "4  08y9GfoqCWfOGsKdwojr5e                  Lady of the Evening   \n",
       "\n",
       "           artists                  id_artists  \\\n",
       "0              Uli  ['45tIt06XoI0Iio4LBEVpls']   \n",
       "1  Fernando Pessoa  ['14jtPCOoNZwquk5wd9DxrY']   \n",
       "2  Ignacio Corsini  ['5LiOoJbxVSAMkBS2fUm3X2']   \n",
       "3  Ignacio Corsini  ['5LiOoJbxVSAMkBS2fUm3X2']   \n",
       "4      Dick Haymes  ['3BiJGZsyX9sJchTqcSA7Su']   \n",
       "\n",
       "                                              genres  release_year  \\\n",
       "0                                                NaN          1922   \n",
       "1                                                NaN          1922   \n",
       "2                                tango vintage tango          1922   \n",
       "3                                tango vintage tango          1922   \n",
       "4  adult standards big band easy listening lounge...          1922   \n",
       "\n",
       "   duration_s  popularity  danceability  energy  key  loudness  mode  \\\n",
       "0     126.903           6         0.645  0.4450    0    46.662     1   \n",
       "1      98.200           0         0.695  0.2630    0    37.864     1   \n",
       "2     181.640           0         0.434  0.1770    1    38.820     1   \n",
       "3     176.907           0         0.321  0.0946    7    32.039     1   \n",
       "4     163.080           0         0.402  0.1580    3    43.100     0   \n",
       "\n",
       "   speechiness  acousticness  instrumentalness  liveness  valence    tempo  \n",
       "0       0.4510         0.674            0.7440     0.151    0.127  104.851  \n",
       "1       0.9570         0.797            0.0000     0.148    0.655  102.009  \n",
       "2       0.0512         0.994            0.0218     0.212    0.457  130.418  \n",
       "3       0.0504         0.995            0.9180     0.104    0.397  169.980  \n",
       "4       0.0390         0.989            0.1300     0.311    0.196  103.220  "
      ]
     },
     "execution_count": 2,
     "metadata": {},
     "output_type": "execute_result"
    }
   ],
   "source": [
    "## Lets import the data from csv file\n",
    "\n",
    "df_tracks = pd.read_csv('tracks_transformed.csv')\n",
    "dftracks = pd.read_csv('tracks_transformed.csv')\n",
    "\n",
    "\n",
    "## Lets see how the data looks\n",
    "df_tracks.head()"
   ]
  },
  {
   "cell_type": "code",
   "execution_count": 3,
   "id": "4d634fc6-abbb-4398-b4b7-3856173ea743",
   "metadata": {},
   "outputs": [],
   "source": [
    "## Lets import the artists data from csv file\n",
    "df_artists = pd.read_csv('artists_transformed.csv')\n",
    "\n",
    "## Lets drop the null values\n",
    "df_artists.dropna(inplace=True)"
   ]
  },
  {
   "cell_type": "code",
   "execution_count": 4,
   "id": "07af6bef-8c6e-4465-a4af-93aee48909b8",
   "metadata": {},
   "outputs": [
    {
     "data": {
      "text/html": [
       "<div>\n",
       "<style scoped>\n",
       "    .dataframe tbody tr th:only-of-type {\n",
       "        vertical-align: middle;\n",
       "    }\n",
       "\n",
       "    .dataframe tbody tr th {\n",
       "        vertical-align: top;\n",
       "    }\n",
       "\n",
       "    .dataframe thead th {\n",
       "        text-align: right;\n",
       "    }\n",
       "</style>\n",
       "<table border=\"1\" class=\"dataframe\">\n",
       "  <thead>\n",
       "    <tr style=\"text-align: right;\">\n",
       "      <th></th>\n",
       "      <th>id</th>\n",
       "      <th>followers</th>\n",
       "      <th>genres</th>\n",
       "      <th>name</th>\n",
       "      <th>popularity</th>\n",
       "    </tr>\n",
       "  </thead>\n",
       "  <tbody>\n",
       "    <tr>\n",
       "      <th>45</th>\n",
       "      <td>0VLMVnVbJyJ4oyZs2L3Yl2</td>\n",
       "      <td>71.0</td>\n",
       "      <td>carnaval cadiz</td>\n",
       "      <td>Las Viudas De Los Bisabuelos</td>\n",
       "      <td>6</td>\n",
       "    </tr>\n",
       "    <tr>\n",
       "      <th>46</th>\n",
       "      <td>0dt23bs4w8zx154C5xdVyl</td>\n",
       "      <td>63.0</td>\n",
       "      <td>carnaval cadiz</td>\n",
       "      <td>Los De Capuchinos</td>\n",
       "      <td>5</td>\n",
       "    </tr>\n",
       "    <tr>\n",
       "      <th>47</th>\n",
       "      <td>0pGhoB99qpEJEsBQxgaskQ</td>\n",
       "      <td>64.0</td>\n",
       "      <td>carnaval cadiz</td>\n",
       "      <td>Los “Pofesionales”</td>\n",
       "      <td>7</td>\n",
       "    </tr>\n",
       "    <tr>\n",
       "      <th>48</th>\n",
       "      <td>3HDrX2OtSuXLW5dLR85uN3</td>\n",
       "      <td>53.0</td>\n",
       "      <td>carnaval cadiz</td>\n",
       "      <td>Los Que No Paran De Rajar</td>\n",
       "      <td>6</td>\n",
       "    </tr>\n",
       "    <tr>\n",
       "      <th>136</th>\n",
       "      <td>22mLrN5fkppmuUPsHx6i2G</td>\n",
       "      <td>59.0</td>\n",
       "      <td>classical harp harp</td>\n",
       "      <td>Vera Dulova</td>\n",
       "      <td>3</td>\n",
       "    </tr>\n",
       "  </tbody>\n",
       "</table>\n",
       "</div>"
      ],
      "text/plain": [
       "                         id  followers               genres  \\\n",
       "45   0VLMVnVbJyJ4oyZs2L3Yl2       71.0       carnaval cadiz   \n",
       "46   0dt23bs4w8zx154C5xdVyl       63.0       carnaval cadiz   \n",
       "47   0pGhoB99qpEJEsBQxgaskQ       64.0       carnaval cadiz   \n",
       "48   3HDrX2OtSuXLW5dLR85uN3       53.0       carnaval cadiz   \n",
       "136  22mLrN5fkppmuUPsHx6i2G       59.0  classical harp harp   \n",
       "\n",
       "                             name  popularity  \n",
       "45   Las Viudas De Los Bisabuelos           6  \n",
       "46              Los De Capuchinos           5  \n",
       "47             Los “Pofesionales”           7  \n",
       "48      Los Que No Paran De Rajar           6  \n",
       "136                   Vera Dulova           3  "
      ]
     },
     "execution_count": 4,
     "metadata": {},
     "output_type": "execute_result"
    }
   ],
   "source": [
    "## Lets convert the follower field to numeric\n",
    "df_artists['followers'] = pd.to_numeric(df_artists['followers'])\n",
    "\n",
    "## Lets see how the data looks now. \n",
    "df_artists.head()"
   ]
  },
  {
   "cell_type": "code",
   "execution_count": 5,
   "id": "c158c909-b760-4dd4-acac-94fbc7dfbf8d",
   "metadata": {},
   "outputs": [
    {
     "data": {
      "text/html": [
       "<div>\n",
       "<style scoped>\n",
       "    .dataframe tbody tr th:only-of-type {\n",
       "        vertical-align: middle;\n",
       "    }\n",
       "\n",
       "    .dataframe tbody tr th {\n",
       "        vertical-align: top;\n",
       "    }\n",
       "\n",
       "    .dataframe thead th {\n",
       "        text-align: right;\n",
       "    }\n",
       "</style>\n",
       "<table border=\"1\" class=\"dataframe\">\n",
       "  <thead>\n",
       "    <tr style=\"text-align: right;\">\n",
       "      <th></th>\n",
       "      <th>mode</th>\n",
       "      <th>genres</th>\n",
       "      <th>acousticness</th>\n",
       "      <th>danceability</th>\n",
       "      <th>duration_ms</th>\n",
       "      <th>energy</th>\n",
       "      <th>instrumentalness</th>\n",
       "      <th>liveness</th>\n",
       "      <th>loudness</th>\n",
       "      <th>speechiness</th>\n",
       "      <th>tempo</th>\n",
       "      <th>valence</th>\n",
       "      <th>popularity</th>\n",
       "      <th>key</th>\n",
       "    </tr>\n",
       "  </thead>\n",
       "  <tbody>\n",
       "    <tr>\n",
       "      <th>0</th>\n",
       "      <td>1</td>\n",
       "      <td>21st century classical</td>\n",
       "      <td>0.979333</td>\n",
       "      <td>0.162883</td>\n",
       "      <td>1.602977e+05</td>\n",
       "      <td>0.071317</td>\n",
       "      <td>0.606834</td>\n",
       "      <td>0.361600</td>\n",
       "      <td>-31.514333</td>\n",
       "      <td>0.040567</td>\n",
       "      <td>75.336500</td>\n",
       "      <td>0.103783</td>\n",
       "      <td>27.833333</td>\n",
       "      <td>6</td>\n",
       "    </tr>\n",
       "    <tr>\n",
       "      <th>1</th>\n",
       "      <td>1</td>\n",
       "      <td>432hz</td>\n",
       "      <td>0.494780</td>\n",
       "      <td>0.299333</td>\n",
       "      <td>1.048887e+06</td>\n",
       "      <td>0.450678</td>\n",
       "      <td>0.477762</td>\n",
       "      <td>0.131000</td>\n",
       "      <td>-16.854000</td>\n",
       "      <td>0.076817</td>\n",
       "      <td>120.285667</td>\n",
       "      <td>0.221750</td>\n",
       "      <td>52.500000</td>\n",
       "      <td>5</td>\n",
       "    </tr>\n",
       "    <tr>\n",
       "      <th>2</th>\n",
       "      <td>1</td>\n",
       "      <td>8-bit</td>\n",
       "      <td>0.762000</td>\n",
       "      <td>0.712000</td>\n",
       "      <td>1.151770e+05</td>\n",
       "      <td>0.818000</td>\n",
       "      <td>0.876000</td>\n",
       "      <td>0.126000</td>\n",
       "      <td>-9.180000</td>\n",
       "      <td>0.047000</td>\n",
       "      <td>133.444000</td>\n",
       "      <td>0.975000</td>\n",
       "      <td>48.000000</td>\n",
       "      <td>7</td>\n",
       "    </tr>\n",
       "    <tr>\n",
       "      <th>3</th>\n",
       "      <td>1</td>\n",
       "      <td>[]</td>\n",
       "      <td>0.651417</td>\n",
       "      <td>0.529093</td>\n",
       "      <td>2.328809e+05</td>\n",
       "      <td>0.419146</td>\n",
       "      <td>0.205309</td>\n",
       "      <td>0.218696</td>\n",
       "      <td>-12.288965</td>\n",
       "      <td>0.107872</td>\n",
       "      <td>112.857352</td>\n",
       "      <td>0.513604</td>\n",
       "      <td>20.859882</td>\n",
       "      <td>7</td>\n",
       "    </tr>\n",
       "    <tr>\n",
       "      <th>4</th>\n",
       "      <td>1</td>\n",
       "      <td>a cappella</td>\n",
       "      <td>0.676557</td>\n",
       "      <td>0.538961</td>\n",
       "      <td>1.906285e+05</td>\n",
       "      <td>0.316434</td>\n",
       "      <td>0.003003</td>\n",
       "      <td>0.172254</td>\n",
       "      <td>-12.479387</td>\n",
       "      <td>0.082851</td>\n",
       "      <td>112.110362</td>\n",
       "      <td>0.448249</td>\n",
       "      <td>45.820071</td>\n",
       "      <td>7</td>\n",
       "    </tr>\n",
       "  </tbody>\n",
       "</table>\n",
       "</div>"
      ],
      "text/plain": [
       "   mode                  genres  acousticness  danceability   duration_ms  \\\n",
       "0     1  21st century classical      0.979333      0.162883  1.602977e+05   \n",
       "1     1                   432hz      0.494780      0.299333  1.048887e+06   \n",
       "2     1                   8-bit      0.762000      0.712000  1.151770e+05   \n",
       "3     1                      []      0.651417      0.529093  2.328809e+05   \n",
       "4     1              a cappella      0.676557      0.538961  1.906285e+05   \n",
       "\n",
       "     energy  instrumentalness  liveness   loudness  speechiness       tempo  \\\n",
       "0  0.071317          0.606834  0.361600 -31.514333     0.040567   75.336500   \n",
       "1  0.450678          0.477762  0.131000 -16.854000     0.076817  120.285667   \n",
       "2  0.818000          0.876000  0.126000  -9.180000     0.047000  133.444000   \n",
       "3  0.419146          0.205309  0.218696 -12.288965     0.107872  112.857352   \n",
       "4  0.316434          0.003003  0.172254 -12.479387     0.082851  112.110362   \n",
       "\n",
       "    valence  popularity  key  \n",
       "0  0.103783   27.833333    6  \n",
       "1  0.221750   52.500000    5  \n",
       "2  0.975000   48.000000    7  \n",
       "3  0.513604   20.859882    7  \n",
       "4  0.448249   45.820071    7  "
      ]
     },
     "execution_count": 5,
     "metadata": {},
     "output_type": "execute_result"
    }
   ],
   "source": [
    "## Lets import the genres data from csv file\n",
    "df_genres = pd.read_csv('data_by_genres_o.csv', na_filter=False)\n",
    "\n",
    "## Lets see how the data looks\n",
    "df_genres.head()"
   ]
  },
  {
   "cell_type": "code",
   "execution_count": 6,
   "id": "6bd228c1-8ef5-4b9e-9373-b1d0e9026de6",
   "metadata": {},
   "outputs": [
    {
     "data": {
      "text/plain": [
       "(586672, 19)"
      ]
     },
     "execution_count": 6,
     "metadata": {},
     "output_type": "execute_result"
    }
   ],
   "source": [
    "## Lets see how many rows and columns we have in track dataset\n",
    "df_tracks.shape"
   ]
  },
  {
   "cell_type": "markdown",
   "id": "231d6070-c2fa-4e59-ade3-c56b92df0d07",
   "metadata": {},
   "source": [
    "#### As we can see we have 19 columns and 586672 rows in track dataset."
   ]
  },
  {
   "cell_type": "code",
   "execution_count": 7,
   "id": "d582fb68-2856-473a-b6fb-b6a1157f33e6",
   "metadata": {},
   "outputs": [
    {
     "name": "stdout",
     "output_type": "stream",
     "text": [
      "<class 'pandas.core.frame.DataFrame'>\n",
      "RangeIndex: 586672 entries, 0 to 586671\n",
      "Data columns (total 19 columns):\n",
      " #   Column            Non-Null Count   Dtype  \n",
      "---  ------            --------------   -----  \n",
      " 0   id                586672 non-null  object \n",
      " 1   name              586601 non-null  object \n",
      " 2   artists           586601 non-null  object \n",
      " 3   id_artists        586672 non-null  object \n",
      " 4   genres            536847 non-null  object \n",
      " 5   release_year      586672 non-null  int64  \n",
      " 6   duration_s        586672 non-null  float64\n",
      " 7   popularity        586672 non-null  int64  \n",
      " 8   danceability      586672 non-null  float64\n",
      " 9   energy            586672 non-null  float64\n",
      " 10  key               586672 non-null  int64  \n",
      " 11  loudness          586672 non-null  float64\n",
      " 12  mode              586672 non-null  int64  \n",
      " 13  speechiness       586672 non-null  float64\n",
      " 14  acousticness      586672 non-null  float64\n",
      " 15  instrumentalness  586672 non-null  float64\n",
      " 16  liveness          586672 non-null  float64\n",
      " 17  valence           586672 non-null  float64\n",
      " 18  tempo             586672 non-null  float64\n",
      "dtypes: float64(10), int64(4), object(5)\n",
      "memory usage: 85.0+ MB\n"
     ]
    }
   ],
   "source": [
    "## Lets use info() function to see data type\n",
    "df_tracks.info()"
   ]
  },
  {
   "cell_type": "code",
   "execution_count": 8,
   "id": "5f05cdd7-75b8-4e39-898d-c185db04ed34",
   "metadata": {},
   "outputs": [
    {
     "data": {
      "text/plain": [
       "id                      0\n",
       "name                   71\n",
       "artists                71\n",
       "id_artists              0\n",
       "genres              49825\n",
       "release_year            0\n",
       "duration_s              0\n",
       "popularity              0\n",
       "danceability            0\n",
       "energy                  0\n",
       "key                     0\n",
       "loudness                0\n",
       "mode                    0\n",
       "speechiness             0\n",
       "acousticness            0\n",
       "instrumentalness        0\n",
       "liveness                0\n",
       "valence                 0\n",
       "tempo                   0\n",
       "dtype: int64"
      ]
     },
     "execution_count": 8,
     "metadata": {},
     "output_type": "execute_result"
    }
   ],
   "source": [
    "## Lets see how many null values we have in track dataset.\n",
    "df_tracks.isnull().sum()"
   ]
  },
  {
   "cell_type": "markdown",
   "id": "247316f7-7972-4565-9d43-fac37e319d53",
   "metadata": {},
   "source": [
    "#### Looking at the above result we can clearly stat that column genres have 49825 rows with missing values"
   ]
  },
  {
   "cell_type": "code",
   "execution_count": 9,
   "id": "82a4c74d-b48a-41cc-8d2d-a76c981faccd",
   "metadata": {},
   "outputs": [
    {
     "data": {
      "image/png": "[encoded data removed]",
      "text/plain": [
       "<Figure size 432x288 with 1 Axes>"
      ]
     },
     "metadata": {
      "needs_background": "light"
     },
     "output_type": "display_data"
    }
   ],
   "source": [
    "## Lets drop the null values so that it will not affect the results.\n",
    "df_tracks.dropna(inplace = True)\n",
    "dftracks.dropna(inplace = True)\n",
    "df_tracks.isnull().sum().plot.bar()\n",
    "plt.show()"
   ]
  },
  {
   "cell_type": "markdown",
   "id": "8205c930-9513-4d40-bf8c-66422792f1d8",
   "metadata": {},
   "source": [
    "#### This is the most important feature, which will be used in song recommender system to recommend the songs to the users and hence it need to be treated. For resolving the missing values issues I am removing the 50,000 rows from our dataset. Our dataset has more than 500K rows and removing 50K rows will not impact the dataset."
   ]
  },
  {
   "cell_type": "code",
   "execution_count": 10,
   "id": "f8d9ee74-5125-4cad-88cc-e89f034a09b8",
   "metadata": {},
   "outputs": [],
   "source": [
    "## Lets remove the columns that we do not need in our analysis\n",
    "df_tracks = df_tracks.drop(['id', 'artists'], axis = 1)\n",
    "dftracks = dftracks.drop(['id', 'id_artists'], axis = 1)"
   ]
  },
  {
   "cell_type": "markdown",
   "id": "b81be2b6-aa0a-4c08-b663-35d68c841180",
   "metadata": {},
   "source": [
    "### Exploratory Data Analysis"
   ]
  },
  {
   "cell_type": "code",
   "execution_count": 11,
   "id": "db4da3f4-3515-4676-912c-8301b1c9eee3",
   "metadata": {},
   "outputs": [
    {
     "data": {
      "text/html": [
       "<div>\n",
       "<style scoped>\n",
       "    .dataframe tbody tr th:only-of-type {\n",
       "        vertical-align: middle;\n",
       "    }\n",
       "\n",
       "    .dataframe tbody tr th {\n",
       "        vertical-align: top;\n",
       "    }\n",
       "\n",
       "    .dataframe thead th {\n",
       "        text-align: right;\n",
       "    }\n",
       "</style>\n",
       "<table border=\"1\" class=\"dataframe\">\n",
       "  <thead>\n",
       "    <tr style=\"text-align: right;\">\n",
       "      <th></th>\n",
       "      <th>id</th>\n",
       "      <th>name</th>\n",
       "      <th>artists</th>\n",
       "      <th>id_artists</th>\n",
       "      <th>genres</th>\n",
       "      <th>release_year</th>\n",
       "      <th>duration_s</th>\n",
       "      <th>popularity</th>\n",
       "      <th>danceability</th>\n",
       "      <th>energy</th>\n",
       "      <th>key</th>\n",
       "      <th>loudness</th>\n",
       "      <th>mode</th>\n",
       "      <th>speechiness</th>\n",
       "      <th>acousticness</th>\n",
       "      <th>instrumentalness</th>\n",
       "      <th>liveness</th>\n",
       "      <th>valence</th>\n",
       "      <th>tempo</th>\n",
       "    </tr>\n",
       "  </thead>\n",
       "  <tbody>\n",
       "    <tr>\n",
       "      <th>0</th>\n",
       "      <td>35iwgR4jXetI318WEWsa1Q</td>\n",
       "      <td>Carve</td>\n",
       "      <td>Uli</td>\n",
       "      <td>['45tIt06XoI0Iio4LBEVpls']</td>\n",
       "      <td>NaN</td>\n",
       "      <td>1922</td>\n",
       "      <td>126.903</td>\n",
       "      <td>6</td>\n",
       "      <td>0.645</td>\n",
       "      <td>0.4450</td>\n",
       "      <td>0</td>\n",
       "      <td>46.662</td>\n",
       "      <td>1</td>\n",
       "      <td>0.4510</td>\n",
       "      <td>0.674</td>\n",
       "      <td>0.7440</td>\n",
       "      <td>0.151</td>\n",
       "      <td>0.127</td>\n",
       "      <td>104.851</td>\n",
       "    </tr>\n",
       "    <tr>\n",
       "      <th>1</th>\n",
       "      <td>021ht4sdgPcrDgSk7JTbKY</td>\n",
       "      <td>Capítulo 2.16 - Banquero Anarquista</td>\n",
       "      <td>Fernando Pessoa</td>\n",
       "      <td>['14jtPCOoNZwquk5wd9DxrY']</td>\n",
       "      <td>NaN</td>\n",
       "      <td>1922</td>\n",
       "      <td>98.200</td>\n",
       "      <td>0</td>\n",
       "      <td>0.695</td>\n",
       "      <td>0.2630</td>\n",
       "      <td>0</td>\n",
       "      <td>37.864</td>\n",
       "      <td>1</td>\n",
       "      <td>0.9570</td>\n",
       "      <td>0.797</td>\n",
       "      <td>0.0000</td>\n",
       "      <td>0.148</td>\n",
       "      <td>0.655</td>\n",
       "      <td>102.009</td>\n",
       "    </tr>\n",
       "    <tr>\n",
       "      <th>2</th>\n",
       "      <td>07A5yehtSnoedViJAZkNnc</td>\n",
       "      <td>Vivo para Quererte - Remasterizado</td>\n",
       "      <td>Ignacio Corsini</td>\n",
       "      <td>['5LiOoJbxVSAMkBS2fUm3X2']</td>\n",
       "      <td>tango vintage tango</td>\n",
       "      <td>1922</td>\n",
       "      <td>181.640</td>\n",
       "      <td>0</td>\n",
       "      <td>0.434</td>\n",
       "      <td>0.1770</td>\n",
       "      <td>1</td>\n",
       "      <td>38.820</td>\n",
       "      <td>1</td>\n",
       "      <td>0.0512</td>\n",
       "      <td>0.994</td>\n",
       "      <td>0.0218</td>\n",
       "      <td>0.212</td>\n",
       "      <td>0.457</td>\n",
       "      <td>130.418</td>\n",
       "    </tr>\n",
       "    <tr>\n",
       "      <th>3</th>\n",
       "      <td>08FmqUhxtyLTn6pAh6bk45</td>\n",
       "      <td>El Prisionero - Remasterizado</td>\n",
       "      <td>Ignacio Corsini</td>\n",
       "      <td>['5LiOoJbxVSAMkBS2fUm3X2']</td>\n",
       "      <td>tango vintage tango</td>\n",
       "      <td>1922</td>\n",
       "      <td>176.907</td>\n",
       "      <td>0</td>\n",
       "      <td>0.321</td>\n",
       "      <td>0.0946</td>\n",
       "      <td>7</td>\n",
       "      <td>32.039</td>\n",
       "      <td>1</td>\n",
       "      <td>0.0504</td>\n",
       "      <td>0.995</td>\n",
       "      <td>0.9180</td>\n",
       "      <td>0.104</td>\n",
       "      <td>0.397</td>\n",
       "      <td>169.980</td>\n",
       "    </tr>\n",
       "    <tr>\n",
       "      <th>4</th>\n",
       "      <td>08y9GfoqCWfOGsKdwojr5e</td>\n",
       "      <td>Lady of the Evening</td>\n",
       "      <td>Dick Haymes</td>\n",
       "      <td>['3BiJGZsyX9sJchTqcSA7Su']</td>\n",
       "      <td>adult standards big band easy listening lounge...</td>\n",
       "      <td>1922</td>\n",
       "      <td>163.080</td>\n",
       "      <td>0</td>\n",
       "      <td>0.402</td>\n",
       "      <td>0.1580</td>\n",
       "      <td>3</td>\n",
       "      <td>43.100</td>\n",
       "      <td>0</td>\n",
       "      <td>0.0390</td>\n",
       "      <td>0.989</td>\n",
       "      <td>0.1300</td>\n",
       "      <td>0.311</td>\n",
       "      <td>0.196</td>\n",
       "      <td>103.220</td>\n",
       "    </tr>\n",
       "  </tbody>\n",
       "</table>\n",
       "</div>"
      ],
      "text/plain": [
       "                       id                                 name  \\\n",
       "0  35iwgR4jXetI318WEWsa1Q                                Carve   \n",
       "1  021ht4sdgPcrDgSk7JTbKY  Capítulo 2.16 - Banquero Anarquista   \n",
       "2  07A5yehtSnoedViJAZkNnc   Vivo para Quererte - Remasterizado   \n",
       "3  08FmqUhxtyLTn6pAh6bk45        El Prisionero - Remasterizado   \n",
       "4  08y9GfoqCWfOGsKdwojr5e                  Lady of the Evening   \n",
       "\n",
       "           artists                  id_artists  \\\n",
       "0              Uli  ['45tIt06XoI0Iio4LBEVpls']   \n",
       "1  Fernando Pessoa  ['14jtPCOoNZwquk5wd9DxrY']   \n",
       "2  Ignacio Corsini  ['5LiOoJbxVSAMkBS2fUm3X2']   \n",
       "3  Ignacio Corsini  ['5LiOoJbxVSAMkBS2fUm3X2']   \n",
       "4      Dick Haymes  ['3BiJGZsyX9sJchTqcSA7Su']   \n",
       "\n",
       "                                              genres  release_year  \\\n",
       "0                                                NaN          1922   \n",
       "1                                                NaN          1922   \n",
       "2                                tango vintage tango          1922   \n",
       "3                                tango vintage tango          1922   \n",
       "4  adult standards big band easy listening lounge...          1922   \n",
       "\n",
       "   duration_s  popularity  danceability  energy  key  loudness  mode  \\\n",
       "0     126.903           6         0.645  0.4450    0    46.662     1   \n",
       "1      98.200           0         0.695  0.2630    0    37.864     1   \n",
       "2     181.640           0         0.434  0.1770    1    38.820     1   \n",
       "3     176.907           0         0.321  0.0946    7    32.039     1   \n",
       "4     163.080           0         0.402  0.1580    3    43.100     0   \n",
       "\n",
       "   speechiness  acousticness  instrumentalness  liveness  valence    tempo  \n",
       "0       0.4510         0.674            0.7440     0.151    0.127  104.851  \n",
       "1       0.9570         0.797            0.0000     0.148    0.655  102.009  \n",
       "2       0.0512         0.994            0.0218     0.212    0.457  130.418  \n",
       "3       0.0504         0.995            0.9180     0.104    0.397  169.980  \n",
       "4       0.0390         0.989            0.1300     0.311    0.196  103.220  "
      ]
     },
     "execution_count": 11,
     "metadata": {},
     "output_type": "execute_result"
    }
   ],
   "source": [
    "## Lets see the data again\n",
    "df_tracks = pd.read_csv('tracks_transformed.csv')\n",
    "df_tracks.head()"
   ]
  },
  {
   "cell_type": "code",
   "execution_count": 12,
   "id": "b6bc381a-65a9-49bd-b780-755772b0270b",
   "metadata": {},
   "outputs": [
    {
     "data": {
      "text/html": [
       "<div>\n",
       "<style scoped>\n",
       "    .dataframe tbody tr th:only-of-type {\n",
       "        vertical-align: middle;\n",
       "    }\n",
       "\n",
       "    .dataframe tbody tr th {\n",
       "        vertical-align: top;\n",
       "    }\n",
       "\n",
       "    .dataframe thead th {\n",
       "        text-align: right;\n",
       "    }\n",
       "</style>\n",
       "<table border=\"1\" class=\"dataframe\">\n",
       "  <thead>\n",
       "    <tr style=\"text-align: right;\">\n",
       "      <th></th>\n",
       "      <th>count</th>\n",
       "      <th>mean</th>\n",
       "      <th>std</th>\n",
       "      <th>min</th>\n",
       "      <th>25%</th>\n",
       "      <th>50%</th>\n",
       "      <th>75%</th>\n",
       "      <th>max</th>\n",
       "    </tr>\n",
       "  </thead>\n",
       "  <tbody>\n",
       "    <tr>\n",
       "      <th>release_year</th>\n",
       "      <td>586672.0</td>\n",
       "      <td>1988.566168</td>\n",
       "      <td>22.831283</td>\n",
       "      <td>1900.000</td>\n",
       "      <td>1974.0000</td>\n",
       "      <td>1992.000000</td>\n",
       "      <td>2007.00000</td>\n",
       "      <td>2021.000</td>\n",
       "    </tr>\n",
       "    <tr>\n",
       "      <th>duration_s</th>\n",
       "      <td>586672.0</td>\n",
       "      <td>230.051167</td>\n",
       "      <td>126.526087</td>\n",
       "      <td>3.344</td>\n",
       "      <td>175.0930</td>\n",
       "      <td>214.893000</td>\n",
       "      <td>263.86700</td>\n",
       "      <td>5621.218</td>\n",
       "    </tr>\n",
       "    <tr>\n",
       "      <th>popularity</th>\n",
       "      <td>586672.0</td>\n",
       "      <td>27.570053</td>\n",
       "      <td>18.370642</td>\n",
       "      <td>0.000</td>\n",
       "      <td>13.0000</td>\n",
       "      <td>27.000000</td>\n",
       "      <td>41.00000</td>\n",
       "      <td>100.000</td>\n",
       "    </tr>\n",
       "    <tr>\n",
       "      <th>danceability</th>\n",
       "      <td>586672.0</td>\n",
       "      <td>0.563594</td>\n",
       "      <td>0.166103</td>\n",
       "      <td>0.000</td>\n",
       "      <td>0.4530</td>\n",
       "      <td>0.577000</td>\n",
       "      <td>0.68600</td>\n",
       "      <td>0.991</td>\n",
       "    </tr>\n",
       "    <tr>\n",
       "      <th>energy</th>\n",
       "      <td>586672.0</td>\n",
       "      <td>0.542036</td>\n",
       "      <td>0.251923</td>\n",
       "      <td>0.000</td>\n",
       "      <td>0.3430</td>\n",
       "      <td>0.549000</td>\n",
       "      <td>0.74800</td>\n",
       "      <td>1.000</td>\n",
       "    </tr>\n",
       "    <tr>\n",
       "      <th>key</th>\n",
       "      <td>586672.0</td>\n",
       "      <td>5.221603</td>\n",
       "      <td>3.519423</td>\n",
       "      <td>0.000</td>\n",
       "      <td>2.0000</td>\n",
       "      <td>5.000000</td>\n",
       "      <td>8.00000</td>\n",
       "      <td>11.000</td>\n",
       "    </tr>\n",
       "    <tr>\n",
       "      <th>loudness</th>\n",
       "      <td>586672.0</td>\n",
       "      <td>49.793933</td>\n",
       "      <td>5.089328</td>\n",
       "      <td>0.000</td>\n",
       "      <td>47.1090</td>\n",
       "      <td>50.757000</td>\n",
       "      <td>53.51800</td>\n",
       "      <td>65.376</td>\n",
       "    </tr>\n",
       "    <tr>\n",
       "      <th>mode</th>\n",
       "      <td>586672.0</td>\n",
       "      <td>0.658797</td>\n",
       "      <td>0.474114</td>\n",
       "      <td>0.000</td>\n",
       "      <td>0.0000</td>\n",
       "      <td>1.000000</td>\n",
       "      <td>1.00000</td>\n",
       "      <td>1.000</td>\n",
       "    </tr>\n",
       "    <tr>\n",
       "      <th>speechiness</th>\n",
       "      <td>586672.0</td>\n",
       "      <td>0.104864</td>\n",
       "      <td>0.179893</td>\n",
       "      <td>0.000</td>\n",
       "      <td>0.0340</td>\n",
       "      <td>0.044300</td>\n",
       "      <td>0.07630</td>\n",
       "      <td>0.971</td>\n",
       "    </tr>\n",
       "    <tr>\n",
       "      <th>acousticness</th>\n",
       "      <td>586672.0</td>\n",
       "      <td>0.449863</td>\n",
       "      <td>0.348837</td>\n",
       "      <td>0.000</td>\n",
       "      <td>0.0969</td>\n",
       "      <td>0.422000</td>\n",
       "      <td>0.78500</td>\n",
       "      <td>0.996</td>\n",
       "    </tr>\n",
       "    <tr>\n",
       "      <th>instrumentalness</th>\n",
       "      <td>586672.0</td>\n",
       "      <td>0.113451</td>\n",
       "      <td>0.266868</td>\n",
       "      <td>0.000</td>\n",
       "      <td>0.0000</td>\n",
       "      <td>0.000024</td>\n",
       "      <td>0.00955</td>\n",
       "      <td>1.000</td>\n",
       "    </tr>\n",
       "    <tr>\n",
       "      <th>liveness</th>\n",
       "      <td>586672.0</td>\n",
       "      <td>0.213935</td>\n",
       "      <td>0.184326</td>\n",
       "      <td>0.000</td>\n",
       "      <td>0.0983</td>\n",
       "      <td>0.139000</td>\n",
       "      <td>0.27800</td>\n",
       "      <td>1.000</td>\n",
       "    </tr>\n",
       "    <tr>\n",
       "      <th>valence</th>\n",
       "      <td>586672.0</td>\n",
       "      <td>0.552292</td>\n",
       "      <td>0.257671</td>\n",
       "      <td>0.000</td>\n",
       "      <td>0.3460</td>\n",
       "      <td>0.564000</td>\n",
       "      <td>0.76900</td>\n",
       "      <td>1.000</td>\n",
       "    </tr>\n",
       "    <tr>\n",
       "      <th>tempo</th>\n",
       "      <td>586672.0</td>\n",
       "      <td>118.464857</td>\n",
       "      <td>29.764108</td>\n",
       "      <td>0.000</td>\n",
       "      <td>95.6000</td>\n",
       "      <td>117.384000</td>\n",
       "      <td>136.32100</td>\n",
       "      <td>246.381</td>\n",
       "    </tr>\n",
       "  </tbody>\n",
       "</table>\n",
       "</div>"
      ],
      "text/plain": [
       "                     count         mean         std       min        25%  \\\n",
       "release_year      586672.0  1988.566168   22.831283  1900.000  1974.0000   \n",
       "duration_s        586672.0   230.051167  126.526087     3.344   175.0930   \n",
       "popularity        586672.0    27.570053   18.370642     0.000    13.0000   \n",
       "danceability      586672.0     0.563594    0.166103     0.000     0.4530   \n",
       "energy            586672.0     0.542036    0.251923     0.000     0.3430   \n",
       "key               586672.0     5.221603    3.519423     0.000     2.0000   \n",
       "loudness          586672.0    49.793933    5.089328     0.000    47.1090   \n",
       "mode              586672.0     0.658797    0.474114     0.000     0.0000   \n",
       "speechiness       586672.0     0.104864    0.179893     0.000     0.0340   \n",
       "acousticness      586672.0     0.449863    0.348837     0.000     0.0969   \n",
       "instrumentalness  586672.0     0.113451    0.266868     0.000     0.0000   \n",
       "liveness          586672.0     0.213935    0.184326     0.000     0.0983   \n",
       "valence           586672.0     0.552292    0.257671     0.000     0.3460   \n",
       "tempo             586672.0   118.464857   29.764108     0.000    95.6000   \n",
       "\n",
       "                          50%         75%       max  \n",
       "release_year      1992.000000  2007.00000  2021.000  \n",
       "duration_s         214.893000   263.86700  5621.218  \n",
       "popularity          27.000000    41.00000   100.000  \n",
       "danceability         0.577000     0.68600     0.991  \n",
       "energy               0.549000     0.74800     1.000  \n",
       "key                  5.000000     8.00000    11.000  \n",
       "loudness            50.757000    53.51800    65.376  \n",
       "mode                 1.000000     1.00000     1.000  \n",
       "speechiness          0.044300     0.07630     0.971  \n",
       "acousticness         0.422000     0.78500     0.996  \n",
       "instrumentalness     0.000024     0.00955     1.000  \n",
       "liveness             0.139000     0.27800     1.000  \n",
       "valence              0.564000     0.76900     1.000  \n",
       "tempo              117.384000   136.32100   246.381  "
      ]
     },
     "execution_count": 12,
     "metadata": {},
     "output_type": "execute_result"
    }
   ],
   "source": [
    "## Lets use describe function to learn about data statistics\n",
    "df_tracks.describe().transpose()"
   ]
  },
  {
   "cell_type": "code",
   "execution_count": 13,
   "id": "d4bc97d1-1cb4-4ce2-8b58-6af4ddd1608d",
   "metadata": {},
   "outputs": [
    {
     "data": {
      "text/html": [
       "<div>\n",
       "<style scoped>\n",
       "    .dataframe tbody tr th:only-of-type {\n",
       "        vertical-align: middle;\n",
       "    }\n",
       "\n",
       "    .dataframe tbody tr th {\n",
       "        vertical-align: top;\n",
       "    }\n",
       "\n",
       "    .dataframe thead th {\n",
       "        text-align: right;\n",
       "    }\n",
       "</style>\n",
       "<table border=\"1\" class=\"dataframe\">\n",
       "  <thead>\n",
       "    <tr style=\"text-align: right;\">\n",
       "      <th></th>\n",
       "      <th>count</th>\n",
       "      <th>mean</th>\n",
       "      <th>std</th>\n",
       "      <th>min</th>\n",
       "      <th>25%</th>\n",
       "      <th>50%</th>\n",
       "      <th>75%</th>\n",
       "      <th>max</th>\n",
       "    </tr>\n",
       "  </thead>\n",
       "  <tbody>\n",
       "    <tr>\n",
       "      <th>followers</th>\n",
       "      <td>298610.0</td>\n",
       "      <td>38506.674743</td>\n",
       "      <td>500715.449177</td>\n",
       "      <td>0.0</td>\n",
       "      <td>157.0</td>\n",
       "      <td>894.0</td>\n",
       "      <td>5221.75</td>\n",
       "      <td>78900234.0</td>\n",
       "    </tr>\n",
       "    <tr>\n",
       "      <th>popularity</th>\n",
       "      <td>298610.0</td>\n",
       "      <td>19.535937</td>\n",
       "      <td>17.527959</td>\n",
       "      <td>0.0</td>\n",
       "      <td>4.0</td>\n",
       "      <td>16.0</td>\n",
       "      <td>32.00</td>\n",
       "      <td>100.0</td>\n",
       "    </tr>\n",
       "  </tbody>\n",
       "</table>\n",
       "</div>"
      ],
      "text/plain": [
       "               count          mean            std  min    25%    50%      75%  \\\n",
       "followers   298610.0  38506.674743  500715.449177  0.0  157.0  894.0  5221.75   \n",
       "popularity  298610.0     19.535937      17.527959  0.0    4.0   16.0    32.00   \n",
       "\n",
       "                   max  \n",
       "followers   78900234.0  \n",
       "popularity       100.0  "
      ]
     },
     "execution_count": 13,
     "metadata": {},
     "output_type": "execute_result"
    }
   ],
   "source": [
    "## Lets use the describe function again to see statistics summary for artists dataset.\n",
    "df_artists.describe().transpose()"
   ]
  },
  {
   "cell_type": "code",
   "execution_count": 14,
   "id": "8400f087-08c0-434c-b612-c167ad7e7964",
   "metadata": {},
   "outputs": [
    {
     "data": {
      "image/png": "[encoded data removed]",
      "text/plain": [
       "<Figure size 1152x720 with 1 Axes>"
      ]
     },
     "metadata": {
      "needs_background": "light"
     },
     "output_type": "display_data"
    }
   ],
   "source": [
    "## Lets see the top 10 popular tracks in dataset.\n",
    "popular_songs = df_tracks.groupby('name')['popularity'].mean().sort_values(ascending=False).head(10)\n",
    "\n",
    "## Lets create the horizontal bar chart\n",
    "plt.figure(figsize=(16, 10))\n",
    "plt.barh(popular_songs.index, popular_songs)\n",
    "\n",
    "## Lets declare the title of the chart\n",
    "plt.title('Popular Songs', fontdict=dict(fontsize=15), fontweight='bold')\n",
    "\n",
    "## Lets declare the x-axis and y-axis labels\n",
    "plt.xlabel('Popularity', fontdict=dict(fontsize=15), fontweight='bold')\n",
    "plt.ylabel('Song Name', fontdict=dict(fontsize=15), fontweight='bold')\n",
    "plt.xticks(fontsize='large', weight='bold')\n",
    "plt.yticks(fontsize='large', weight='bold')\n",
    "for i, v in enumerate(popular_songs):\n",
    "    plt.text(v+0.5, i-0.15, str(int(v)), fontdict=dict(fontsize=15), fontweight='bold')\n",
    "plt.show()"
   ]
  },
  {
   "cell_type": "markdown",
   "id": "4773500c-5aed-40b6-a973-70d10ed1e2cc",
   "metadata": {},
   "source": [
    "#### As we can see the above visualization shows the top 10 most popular songs, the most popular song name is “driver license” with 99 popularity measure."
   ]
  },
  {
   "cell_type": "code",
   "execution_count": 15,
   "id": "63ddd9b9-189f-48a3-bc4f-66656c43a4b7",
   "metadata": {},
   "outputs": [
    {
     "data": {
      "image/png": "[encoded data removed]",
      "text/plain": [
       "<Figure size 1152x720 with 1 Axes>"
      ]
     },
     "metadata": {
      "needs_background": "light"
     },
     "output_type": "display_data"
    }
   ],
   "source": [
    "## Lets see the top 10 popular artists\n",
    "popular_artists = df_artists.groupby('name')['popularity'].mean().sort_values(ascending=False).head(10)\n",
    "\n",
    "## Lets create horizontal bar chart\n",
    "plt.figure(figsize=(16, 10))\n",
    "plt.barh(popular_artists.index, popular_artists)\n",
    "\n",
    "## Lets declare the title of the chart\n",
    "plt.title('Popular Artists', fontdict=dict(fontsize=15), fontweight='bold')\n",
    "\n",
    "## Lets declare the x-axis and y-axis labels\n",
    "plt.xlabel('Popularity', fontdict=dict(fontsize=15), fontweight='bold')\n",
    "plt.ylabel('Artist Name', fontdict=dict(fontsize=15), fontweight='bold')\n",
    "plt.xticks(fontsize='large', weight='bold')\n",
    "plt.yticks(fontsize='large', weight='bold')\n",
    "for i, v in enumerate(popular_artists):\n",
    "    plt.text(v+0.5, i-0.15, str(int(v)), fontdict=dict(fontsize=15), fontweight='bold')\n",
    "plt.show()\n"
   ]
  },
  {
   "cell_type": "markdown",
   "id": "581e39ca-c591-44ec-9880-be096e1dbe7a",
   "metadata": {},
   "source": [
    "#### The above chart shows that Justin Bieber is the most popular artist with popularity measure of 100. "
   ]
  },
  {
   "cell_type": "code",
   "execution_count": 16,
   "id": "ab675af1-13e8-41f7-bccf-f4bb558a7bf4",
   "metadata": {},
   "outputs": [
    {
     "data": {
      "image/png": "[encoded data removed]",
      "text/plain": [
       "<Figure size 1152x720 with 1 Axes>"
      ]
     },
     "metadata": {
      "needs_background": "light"
     },
     "output_type": "display_data"
    }
   ],
   "source": [
    "## Lets see the top 10 popular artists\n",
    "popular_artists = df_artists.groupby('name')['followers'].mean().sort_values(ascending=False).head(10)\n",
    "\n",
    "## Lets create horizontal bar chart\n",
    "plt.figure(figsize=(16, 10))\n",
    "plt.barh(popular_artists.index, popular_artists)\n",
    "\n",
    "## Lets declare the title of the chart\n",
    "plt.title('Popular Artists', fontdict=dict(fontsize=15), fontweight='bold')\n",
    "\n",
    "## Lets declare the x-axis and y-axis labels\n",
    "plt.xlabel('Number of Followers', fontdict=dict(fontsize=15), fontweight='bold')\n",
    "plt.ylabel('Artist Name', fontdict=dict(fontsize=15), fontweight='bold')\n",
    "plt.xticks(fontsize='large', weight='bold')\n",
    "plt.yticks(fontsize='large', weight='bold')\n",
    "for i, v in enumerate(popular_artists):\n",
    "    plt.text(v+0.5, i-0.15, str(int(v//1000000))+'M', fontdict=dict(fontsize=15), fontweight='bold')\n",
    "plt.show()"
   ]
  },
  {
   "cell_type": "markdown",
   "id": "cdac6fba-0d81-41dc-a4e5-25f5d9323729",
   "metadata": {},
   "source": [
    "#### As we can clearly see that the “Ed Sheeran” has most followers. The above visualization shows top 10 artist with most followers."
   ]
  },
  {
   "cell_type": "code",
   "execution_count": 17,
   "id": "d64a5293-dd12-4074-a56c-bb3f8015cf5c",
   "metadata": {},
   "outputs": [
    {
     "data": {
      "image/png": "[encoded data removed]",
      "text/plain": [
       "<Figure size 1152x720 with 1 Axes>"
      ]
     },
     "metadata": {
      "needs_background": "light"
     },
     "output_type": "display_data"
    }
   ],
   "source": [
    "## Lets see the top 10 popular Genres\n",
    "popular_genres = df_genres.groupby('genres')['popularity'].mean().sort_values(ascending=False).head(10)\n",
    "\n",
    "## Lets create horizontal bar chart\n",
    "plt.figure(figsize=(16, 10))\n",
    "plt.barh(popular_genres.index, popular_genres)\n",
    "\n",
    "## Lets declare the title of the chart\n",
    "plt.title('Popular Genres', fontdict=dict(fontsize=15), fontweight='bold')\n",
    "\n",
    "## Lets declare the x-axis and y-axis labels\n",
    "plt.xlabel('Popularity', fontdict=dict(fontsize=15), fontweight='bold')\n",
    "plt.ylabel('Genre', fontdict=dict(fontsize=15), fontweight='bold')\n",
    "plt.xticks(fontsize='large', weight='bold')\n",
    "plt.yticks(fontsize='large', weight='bold')\n",
    "for i, v in enumerate(popular_genres):\n",
    "    plt.text(v+0.5, i-0.15, str(int(v)), fontdict=dict(fontsize=15), fontweight='bold')\n",
    "plt.show()\n"
   ]
  },
  {
   "cell_type": "markdown",
   "id": "dfad7218-06cc-4218-9b3c-eff82278e560",
   "metadata": {},
   "source": [
    "#### The above result shows the top 10 most popular genres. The genre with maximum popularity is basshall."
   ]
  },
  {
   "cell_type": "code",
   "execution_count": 18,
   "id": "9fbd4dd9-76d9-455d-a535-ce657deaf02e",
   "metadata": {},
   "outputs": [
    {
     "data": {
      "image/png": "[encoded data removed]",
      "text/plain": [
       "<Figure size 1152x720 with 1 Axes>"
      ]
     },
     "metadata": {
      "needs_background": "light"
     },
     "output_type": "display_data"
    }
   ],
   "source": [
    "## Lets see how many song released by year\n",
    "df_grouped = df_tracks.groupby('release_year')['id'].count().reset_index()\n",
    "\n",
    "df_grouped.columns = ['release_year', 'count']\n",
    "## Lets create bar graph\n",
    "plt.figure(figsize=(16, 10))\n",
    "plt.bar(df_grouped['release_year'], df_grouped['count'])\n",
    "\n",
    "## Lets declare the x-axis and y-axis labels\n",
    "plt.xlabel('Song Release Year')\n",
    "plt.ylabel('Number of Songs')\n",
    "\n",
    "## Lets declare the title of the chart\n",
    "plt.title('Song Count by Year')\n",
    "\n",
    "# Show the plot\n",
    "plt.show()"
   ]
  },
  {
   "cell_type": "markdown",
   "id": "6aa3da49-098c-4479-987a-e49635d79ee1",
   "metadata": {},
   "source": [
    "#### As we can see the count of the songs is constantly increasing per year, the most songs were created in year 2020 and in year 1990. This visualization shows the successful years in the music industry."
   ]
  },
  {
   "cell_type": "code",
   "execution_count": 21,
   "id": "d60e767d-b709-49c9-b3a2-c1721fc24be0",
   "metadata": {},
   "outputs": [
    {
     "data": {
      "text/plain": [
       "(408902, (536847, 17))"
      ]
     },
     "execution_count": 21,
     "metadata": {},
     "output_type": "execute_result"
    }
   ],
   "source": [
    "## Lets see how many of same song version availbale in our dataset\n",
    "dftracks['name'].nunique(), dftracks.shape"
   ]
  },
  {
   "cell_type": "code",
   "execution_count": 22,
   "id": "07714a35-cf7d-45d1-9146-5944b028da2f",
   "metadata": {},
   "outputs": [],
   "source": [
    "## Lets remove the same song version from the dataset to avoid recommended the same songs to the user.\n",
    "dftracks = dftracks.sort_values(by=['popularity'], ascending=False)\n",
    "dftracks.drop_duplicates(subset=['name'], keep='first', inplace=True)"
   ]
  },
  {
   "cell_type": "code",
   "execution_count": 23,
   "id": "823b445b-1f98-445b-b553-b2c2b1186287",
   "metadata": {},
   "outputs": [
    {
     "data": {
      "text/plain": [
       "10"
      ]
     },
     "execution_count": 23,
     "metadata": {},
     "output_type": "execute_result"
    }
   ],
   "source": [
    "## Let see how many columns we have with fload datatype\n",
    "floats = []\n",
    "for col in dftracks.columns:\n",
    "  if dftracks[col].dtype == 'float':\n",
    "    floats.append(col)\n",
    " \n",
    "len(floats)"
   ]
  },
  {
   "cell_type": "markdown",
   "id": "53451589-1169-4e79-9999-f863faa26612",
   "metadata": {},
   "source": [
    "#### As we can above result shows we have 10 column with fload datatype"
   ]
  },
  {
   "cell_type": "code",
   "execution_count": 24,
   "id": "235f5d9e-3b47-44b0-bc75-6cb6f7ac3456",
   "metadata": {},
   "outputs": [
    {
     "data": {
      "image/png": "[encoded data removed]",
      "text/plain": [
       "<Figure size 1080x360 with 11 Axes>"
      ]
     },
     "metadata": {
      "needs_background": "light"
     },
     "output_type": "display_data"
    }
   ],
   "source": [
    "## Lets plot the distribution plot to understand the data\n",
    "plt.subplots(figsize = (15, 5))\n",
    "for i, col in enumerate(floats):\n",
    "  plt.subplot(2, 5, i + 1)\n",
    "  sb.distplot(dftracks[col])\n",
    "plt.tight_layout()\n",
    "plt.show()"
   ]
  },
  {
   "cell_type": "markdown",
   "id": "520fff2e-25ae-4d20-bd25-4ebe6915f0d1",
   "metadata": {
    "tags": []
   },
   "source": [
    "#### As we can see above that some of the feature’s distribution is skewed as well as we see some of the features are normally distributed. "
   ]
  },
  {
   "cell_type": "markdown",
   "id": "e5a73149-269c-4b34-8a13-337d5c1a50e4",
   "metadata": {},
   "source": [
    "#### Lets create the variable to convert the song lyrics into numerical vectors for processing."
   ]
  },
  {
   "cell_type": "code",
   "execution_count": 25,
   "id": "c7ba23bf-1cf7-4df5-ad70-e9e61fd43775",
   "metadata": {},
   "outputs": [],
   "source": [
    "%%capture\n",
    "song_vectorizer = CountVectorizer()\n",
    "song_vectorizer.fit(dftracks['genres'])"
   ]
  },
  {
   "cell_type": "code",
   "execution_count": 26,
   "id": "53b561fe-a39d-46ea-ba77-fa41dbc3c6df",
   "metadata": {},
   "outputs": [],
   "source": [
    "## Depending on the popularity lets build the system with 10,000 songs\n",
    "dftracks = dftracks.sort_values(by=['popularity'], ascending=False).head(10000)"
   ]
  },
  {
   "cell_type": "code",
   "execution_count": 27,
   "id": "cfe879b0-d0ed-4398-b7eb-d28c812343de",
   "metadata": {},
   "outputs": [],
   "source": [
    "## Creating a function to understand the similarities between the songs\n",
    "def get_similarities(song_name, data):\n",
    "   \n",
    "  # Getting vector for the input song.\n",
    "  text_array1 = song_vectorizer.transform(data[data['name']==song_name]['genres']).toarray()\n",
    "  num_array1 = data[data['name']==song_name].select_dtypes(include=np.number).to_numpy()\n",
    "   \n",
    "  # We will store similarity for each row of the dataset.\n",
    "  sim = []\n",
    "  for idx, row in data.iterrows():\n",
    "    name = row['name']\n",
    "     \n",
    "    # Getting vector for current song.\n",
    "    text_array2 = song_vectorizer.transform(data[data['name']==name]['genres']).toarray()\n",
    "    num_array2 = data[data['name']==name].select_dtypes(include=np.number).to_numpy()\n",
    " \n",
    "    # Calculating similarities for text as well as numeric features\n",
    "    text_sim = cosine_similarity(text_array1, text_array2)[0][0]\n",
    "    num_sim = cosine_similarity(num_array1, num_array2)[0][0]\n",
    "    sim.append(text_sim + num_sim)\n",
    "     \n",
    "  return sim"
   ]
  },
  {
   "cell_type": "code",
   "execution_count": 28,
   "id": "7eb2df58-30b9-4160-8942-e9bef096a062",
   "metadata": {},
   "outputs": [],
   "source": [
    "## Using the cosine similarity, Lets compare the vectors.\n",
    "def recommend_songs(song_name, data=dftracks):\n",
    "  # Base case\n",
    "  if dftracks[dftracks['name'] == song_name].shape[0] == 0:\n",
    "    print('This song is either not so popular or you\\\n",
    "    have entered invalid_name.\\n Some songs you may like:\\n')\n",
    "     \n",
    "    for song in data.sample(n=5)['name'].values:\n",
    "      print(song)\n",
    "    return\n",
    "   \n",
    "  data['similarity_factor'] = get_similarities(song_name, data)\n",
    " \n",
    "  data.sort_values(by=['similarity_factor', 'popularity'],\n",
    "                   ascending = [False, False],\n",
    "                   inplace=True)\n",
    "   \n",
    "  # First song will be the input song itself as the similarity will be highest.\n",
    "  display(data[['name', 'artists']][2:7])"
   ]
  },
  {
   "cell_type": "code",
   "execution_count": 29,
   "id": "6c255d7e-8ca4-413a-9a33-c4c3e8a16c87",
   "metadata": {},
   "outputs": [
    {
     "name": "stdout",
     "output_type": "stream",
     "text": [
      "This song is either not so popular or you    have entered invalid_name.\n",
      " Some songs you may like:\n",
      "\n",
      "You Never Know\n",
      "Pa' Que Retozen\n",
      "The Thrill\n",
      "Feels Like Summer\n",
      "Short Skirt / Long Jacket\n"
     ]
    }
   ],
   "source": [
    "## Lets ask the recommendation based on some songs\n",
    "recommend_songs('Elephant Love Medley')"
   ]
  },
  {
   "cell_type": "code",
   "execution_count": 30,
   "id": "9dde458a-6c31-4fc9-a864-79b129a0b531",
   "metadata": {},
   "outputs": [
    {
     "data": {
      "text/html": [
       "<div>\n",
       "<style scoped>\n",
       "    .dataframe tbody tr th:only-of-type {\n",
       "        vertical-align: middle;\n",
       "    }\n",
       "\n",
       "    .dataframe tbody tr th {\n",
       "        vertical-align: top;\n",
       "    }\n",
       "\n",
       "    .dataframe thead th {\n",
       "        text-align: right;\n",
       "    }\n",
       "</style>\n",
       "<table border=\"1\" class=\"dataframe\">\n",
       "  <thead>\n",
       "    <tr style=\"text-align: right;\">\n",
       "      <th></th>\n",
       "      <th>name</th>\n",
       "      <th>artists</th>\n",
       "    </tr>\n",
       "  </thead>\n",
       "  <tbody>\n",
       "    <tr>\n",
       "      <th>115460</th>\n",
       "      <td>Intentions (feat. Quavo)</td>\n",
       "      <td>Justin Bieber, Quavo</td>\n",
       "    </tr>\n",
       "    <tr>\n",
       "      <th>82236</th>\n",
       "      <td>Cooler Than Me (feat. Big Sean)</td>\n",
       "      <td>Mike Posner, Big Sean</td>\n",
       "    </tr>\n",
       "    <tr>\n",
       "      <th>90372</th>\n",
       "      <td>Plain Jane REMIX (feat. Nicki Minaj)</td>\n",
       "      <td>A$AP Ferg, Nicki Minaj</td>\n",
       "    </tr>\n",
       "    <tr>\n",
       "      <th>373664</th>\n",
       "      <td>Bon appétit</td>\n",
       "      <td>Katy Perry, Migos</td>\n",
       "    </tr>\n",
       "    <tr>\n",
       "      <th>83160</th>\n",
       "      <td>Baby</td>\n",
       "      <td>Justin Bieber, Ludacris</td>\n",
       "    </tr>\n",
       "  </tbody>\n",
       "</table>\n",
       "</div>"
      ],
      "text/plain": [
       "                                        name                  artists\n",
       "115460              Intentions (feat. Quavo)     Justin Bieber, Quavo\n",
       "82236        Cooler Than Me (feat. Big Sean)    Mike Posner, Big Sean\n",
       "90372   Plain Jane REMIX (feat. Nicki Minaj)   A$AP Ferg, Nicki Minaj\n",
       "373664                           Bon appétit        Katy Perry, Migos\n",
       "83160                                   Baby  Justin Bieber, Ludacris"
      ]
     },
     "metadata": {},
     "output_type": "display_data"
    }
   ],
   "source": [
    "## Lets ask the recommendation based on some songs\n",
    "recommend_songs('As Long As You Love Me')"
   ]
  },
  {
   "cell_type": "code",
   "execution_count": 31,
   "id": "c7c57148-6e59-45cb-9853-0971b7e67717",
   "metadata": {},
   "outputs": [
    {
     "data": {
      "text/html": [
       "<div>\n",
       "<style scoped>\n",
       "    .dataframe tbody tr th:only-of-type {\n",
       "        vertical-align: middle;\n",
       "    }\n",
       "\n",
       "    .dataframe tbody tr th {\n",
       "        vertical-align: top;\n",
       "    }\n",
       "\n",
       "    .dataframe thead th {\n",
       "        text-align: right;\n",
       "    }\n",
       "</style>\n",
       "<table border=\"1\" class=\"dataframe\">\n",
       "  <thead>\n",
       "    <tr style=\"text-align: right;\">\n",
       "      <th></th>\n",
       "      <th>name</th>\n",
       "      <th>artists</th>\n",
       "    </tr>\n",
       "  </thead>\n",
       "  <tbody>\n",
       "    <tr>\n",
       "      <th>87363</th>\n",
       "      <td>Danger</td>\n",
       "      <td>BTS</td>\n",
       "    </tr>\n",
       "    <tr>\n",
       "      <th>88659</th>\n",
       "      <td>Boyz with Fun</td>\n",
       "      <td>BTS</td>\n",
       "    </tr>\n",
       "    <tr>\n",
       "      <th>93362</th>\n",
       "      <td>ON</td>\n",
       "      <td>BTS</td>\n",
       "    </tr>\n",
       "    <tr>\n",
       "      <th>280152</th>\n",
       "      <td>House Party</td>\n",
       "      <td>SUPER JUNIOR</td>\n",
       "    </tr>\n",
       "    <tr>\n",
       "      <th>90232</th>\n",
       "      <td>Pied Piper</td>\n",
       "      <td>BTS</td>\n",
       "    </tr>\n",
       "  </tbody>\n",
       "</table>\n",
       "</div>"
      ],
      "text/plain": [
       "                 name       artists\n",
       "87363          Danger           BTS\n",
       "88659   Boyz with Fun           BTS\n",
       "93362              ON           BTS\n",
       "280152    House Party  SUPER JUNIOR\n",
       "90232      Pied Piper           BTS"
      ]
     },
     "metadata": {},
     "output_type": "display_data"
    }
   ],
   "source": [
    "## Lets ask the recommendation based on some songs\n",
    "recommend_songs('Answer : Love Myself')"
   ]
  },
  {
   "cell_type": "markdown",
   "id": "23fcd244-98f2-40aa-8cb9-5b8d527eb3d7",
   "metadata": {},
   "source": [
    "## Conclusion"
   ]
  },
  {
   "cell_type": "markdown",
   "id": "186daf8e-baa5-4782-b642-9ecc83b00cc1",
   "metadata": {},
   "source": [
    "### The system is built using the cosine similarity, this system will take the input as song name and compared the two vectors – the input song compare the similarities with existing dataset songs features and will recommend the top 5 songs. This model based on the cosine similarity model. The built system is tested and is working as it recommended the songs based on the input song.\n"
   ]
  },
  {
   "cell_type": "code",
   "execution_count": null,
   "id": "50496f74-d65b-4292-86bf-c6ed45b9088a",
   "metadata": {},
   "outputs": [],
   "source": []
  }
 ],
 "metadata": {
  "kernelspec": {
   "display_name": "Python 3 (ipykernel)",
   "language": "python",
   "name": "python3"
  },
  "language_info": {
   "codemirror_mode": {
    "name": "ipython",
    "version": 3
   },
   "file_extension": ".py",
   "mimetype": "text/x-python",
   "name": "python",
   "nbconvert_exporter": "python",
   "pygments_lexer": "ipython3",
   "version": "3.9.7"
  }
 },
 "nbformat": 4,
 "nbformat_minor": 5
}
